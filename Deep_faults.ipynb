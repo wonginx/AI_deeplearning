{
  "nbformat": 4,
  "nbformat_minor": 0,
  "metadata": {
    "colab": {
      "name": "Deep_faults.ipynb",
      "provenance": [],
      "mount_file_id": "1Y3JZgDIluSV_Xfo1wnOkwbnKhXXq0rhz",
      "authorship_tag": "ABX9TyMQ6kgbKvoeKDi3jUuaHtfF",
      "include_colab_link": true
    },
    "kernelspec": {
      "name": "python3",
      "display_name": "Python 3"
    },
    "language_info": {
      "name": "python"
    }
  },
  "cells": [
    {
      "cell_type": "markdown",
      "metadata": {
        "id": "view-in-github",
        "colab_type": "text"
      },
      "source": [
        "<a href=\"https://colab.research.google.com/github/wozzin/AI_deeplearning/blob/main/Deep_faults.ipynb\" target=\"_parent\"><img src=\"https://colab.research.google.com/assets/colab-badge.svg\" alt=\"Open In Colab\"/></a>"
      ]
    },
    {
      "cell_type": "code",
      "metadata": {
        "id": "uY5IalDkdCBV"
      },
      "source": [
        "import tensorflow as tf\n",
        "import numpy as np\n",
        "import pandas as pd\n",
        "import matplotlib.pyplot as plt\n",
        "import seaborn as sns"
      ],
      "execution_count": 49,
      "outputs": []
    },
    {
      "cell_type": "code",
      "metadata": {
        "id": "R8FRPbdijpxb"
      },
      "source": [
        "faults = pd.read_csv('/content/drive/MyDrive/Deep/faults_mini.csv')"
      ],
      "execution_count": 50,
      "outputs": []
    },
    {
      "cell_type": "code",
      "metadata": {
        "colab": {
          "base_uri": "https://localhost:8080/",
          "height": 359
        },
        "id": "0aXoeGPukBi_",
        "outputId": "8a6a2cc7-0441-4ecb-e11f-c8e6d5af2f36"
      },
      "source": [
        "faults"
      ],
      "execution_count": 51,
      "outputs": [
        {
          "output_type": "execute_result",
          "data": {
            "text/html": [
              "<div>\n",
              "<style scoped>\n",
              "    .dataframe tbody tr th:only-of-type {\n",
              "        vertical-align: middle;\n",
              "    }\n",
              "\n",
              "    .dataframe tbody tr th {\n",
              "        vertical-align: top;\n",
              "    }\n",
              "\n",
              "    .dataframe thead th {\n",
              "        text-align: right;\n",
              "    }\n",
              "</style>\n",
              "<table border=\"1\" class=\"dataframe\">\n",
              "  <thead>\n",
              "    <tr style=\"text-align: right;\">\n",
              "      <th></th>\n",
              "      <th>X_Minimum</th>\n",
              "      <th>Y_Minimum</th>\n",
              "      <th>Pixels_Areas</th>\n",
              "      <th>Steel_Plate_Thickness</th>\n",
              "      <th>Pastry</th>\n",
              "      <th>Z_Scratch</th>\n",
              "      <th>K_Scatch</th>\n",
              "    </tr>\n",
              "  </thead>\n",
              "  <tbody>\n",
              "    <tr>\n",
              "      <th>0</th>\n",
              "      <td>42</td>\n",
              "      <td>270900</td>\n",
              "      <td>267</td>\n",
              "      <td>80</td>\n",
              "      <td>1</td>\n",
              "      <td>0</td>\n",
              "      <td>0</td>\n",
              "    </tr>\n",
              "    <tr>\n",
              "      <th>1</th>\n",
              "      <td>1084</td>\n",
              "      <td>185575</td>\n",
              "      <td>108</td>\n",
              "      <td>40</td>\n",
              "      <td>0</td>\n",
              "      <td>0</td>\n",
              "      <td>1</td>\n",
              "    </tr>\n",
              "    <tr>\n",
              "      <th>2</th>\n",
              "      <td>1109</td>\n",
              "      <td>1170194</td>\n",
              "      <td>130</td>\n",
              "      <td>175</td>\n",
              "      <td>0</td>\n",
              "      <td>1</td>\n",
              "      <td>0</td>\n",
              "    </tr>\n",
              "    <tr>\n",
              "      <th>3</th>\n",
              "      <td>190</td>\n",
              "      <td>210936</td>\n",
              "      <td>132</td>\n",
              "      <td>150</td>\n",
              "      <td>1</td>\n",
              "      <td>0</td>\n",
              "      <td>0</td>\n",
              "    </tr>\n",
              "    <tr>\n",
              "      <th>4</th>\n",
              "      <td>330</td>\n",
              "      <td>429227</td>\n",
              "      <td>264</td>\n",
              "      <td>150</td>\n",
              "      <td>1</td>\n",
              "      <td>0</td>\n",
              "      <td>0</td>\n",
              "    </tr>\n",
              "    <tr>\n",
              "      <th>5</th>\n",
              "      <td>74</td>\n",
              "      <td>779144</td>\n",
              "      <td>1506</td>\n",
              "      <td>150</td>\n",
              "      <td>1</td>\n",
              "      <td>0</td>\n",
              "      <td>0</td>\n",
              "    </tr>\n",
              "    <tr>\n",
              "      <th>6</th>\n",
              "      <td>51</td>\n",
              "      <td>585861</td>\n",
              "      <td>139</td>\n",
              "      <td>70</td>\n",
              "      <td>0</td>\n",
              "      <td>1</td>\n",
              "      <td>0</td>\n",
              "    </tr>\n",
              "    <tr>\n",
              "      <th>7</th>\n",
              "      <td>397</td>\n",
              "      <td>604478</td>\n",
              "      <td>444</td>\n",
              "      <td>70</td>\n",
              "      <td>0</td>\n",
              "      <td>1</td>\n",
              "      <td>0</td>\n",
              "    </tr>\n",
              "    <tr>\n",
              "      <th>8</th>\n",
              "      <td>43</td>\n",
              "      <td>366881</td>\n",
              "      <td>4048</td>\n",
              "      <td>40</td>\n",
              "      <td>0</td>\n",
              "      <td>0</td>\n",
              "      <td>1</td>\n",
              "    </tr>\n",
              "    <tr>\n",
              "      <th>9</th>\n",
              "      <td>48</td>\n",
              "      <td>377537</td>\n",
              "      <td>3985</td>\n",
              "      <td>40</td>\n",
              "      <td>0</td>\n",
              "      <td>0</td>\n",
              "      <td>1</td>\n",
              "    </tr>\n",
              "  </tbody>\n",
              "</table>\n",
              "</div>"
            ],
            "text/plain": [
              "   X_Minimum  Y_Minimum  Pixels_Areas  ...  Pastry  Z_Scratch  K_Scatch\n",
              "0         42     270900           267  ...       1          0         0\n",
              "1       1084     185575           108  ...       0          0         1\n",
              "2       1109    1170194           130  ...       0          1         0\n",
              "3        190     210936           132  ...       1          0         0\n",
              "4        330     429227           264  ...       1          0         0\n",
              "5         74     779144          1506  ...       1          0         0\n",
              "6         51     585861           139  ...       0          1         0\n",
              "7        397     604478           444  ...       0          1         0\n",
              "8         43     366881          4048  ...       0          0         1\n",
              "9         48     377537          3985  ...       0          0         1\n",
              "\n",
              "[10 rows x 7 columns]"
            ]
          },
          "metadata": {
            "tags": []
          },
          "execution_count": 51
        }
      ]
    },
    {
      "cell_type": "code",
      "metadata": {
        "colab": {
          "base_uri": "https://localhost:8080/"
        },
        "id": "pnTZg9DTs9KW",
        "outputId": "b1c6e15b-7a17-4542-c494-a8ffd3e7f019"
      },
      "source": [
        "var_x = np.random.randint(0,7,size = 99)\n",
        "var_x_outlier = [100]\n",
        "\n",
        "var_x = np.hstack([var_x, var_x_outlier])\n",
        "\n",
        "var_y = np.random.randint(0,40, size = 100)\n",
        "\n",
        "print(\"var_x \\n\", var_x)\n",
        "print(\"var_y \\n\", var_y)"
      ],
      "execution_count": 52,
      "outputs": [
        {
          "output_type": "stream",
          "text": [
            "var_x \n",
            " [  5   5   1   2   2   5   4   1   6   2   5   5   1   3   2   5   6   5\n",
            "   6   1   6   1   6   3   4   3   2   5   0   4   0   6   0   1   0   0\n",
            "   1   1   2   4   0   2   3   5   6   3   5   1   0   2   6   5   0   1\n",
            "   5   6   0   1   4   4   5   3   6   3   5   5   6   0   1   4   0   4\n",
            "   5   4   2   0   4   5   4   6   2   1   5   3   4   4   3   5   0   3\n",
            "   4   3   2   5   0   3   6   5   0 100]\n",
            "var_y \n",
            " [17 32 14 21  3 15 39 39  0  7 31 31  0 18  9  7 35 21 21 10  0 11 12  6\n",
            " 18 29  2 13  7 28 23  5  1 31 17 34 25 27 30 19  5 13 38 33 14 15 31 26\n",
            " 39 26 14 31  1 19  1 20 13 17 30 33  2 24  3 25  3 37 18 37  6 26  4  3\n",
            " 26 39 19 38  4 23  4 16 35 23 25 34 12 13 16 12  7  6 31 14 38 10 23 16\n",
            " 37  6 23 13]\n"
          ],
          "name": "stdout"
        }
      ]
    },
    {
      "cell_type": "code",
      "metadata": {
        "colab": {
          "base_uri": "https://localhost:8080/"
        },
        "id": "-yae-j6os4_6",
        "outputId": "c2de3ab3-7caf-46dd-ca26-209e7be71a00"
      },
      "source": [
        "var_x_norm = (var_x - var_x.min()) / (var_x.max() - var_x.min())\n",
        "var_y_norm = (var_y - var_y.min()) / (var_y.max() - var_y.min()) \n",
        "print(\"var_x_norm : \\n\", var_x_norm[:10])\n",
        "print(\"var_y_norm : \\n\", var_y_norm[:10])"
      ],
      "execution_count": 53,
      "outputs": [
        {
          "output_type": "stream",
          "text": [
            "var_x_norm : \n",
            " [0.05 0.05 0.01 0.02 0.02 0.05 0.04 0.01 0.06 0.02]\n",
            "var_y_norm : \n",
            " [0.43589744 0.82051282 0.35897436 0.53846154 0.07692308 0.38461538\n",
            " 1.         1.         0.         0.17948718]\n"
          ],
          "name": "stdout"
        }
      ]
    },
    {
      "cell_type": "code",
      "metadata": {
        "colab": {
          "base_uri": "https://localhost:8080/",
          "height": 227
        },
        "id": "BpReYQkOlpuO",
        "outputId": "23cb497f-b75a-437a-a836-0d9e003dd306"
      },
      "source": [
        "import warnings\n",
        "warnings.filterwarnings('ignore')\n",
        "\n",
        "plt.figure(figsize=(15,3))\n",
        "\n",
        "plt.subplot(1,5,1)\n",
        "\n",
        "sns.scatterplot(var_x, var_y, color = 'red')\n",
        "plt.title(\"Before Min - Max Normalization\")\n",
        "plt.grid()\n",
        "\n",
        "plt.subplot(1,5,3)\n",
        "\n",
        "sns.scatterplot(var_x_norm, var_y_norm, color = 'orange')\n",
        "plt.title(\"After Min - Max Normalization\")\n",
        "plt.grid()\n",
        "\n",
        "var_x = np.random.randint(0,7, size = 100)\n",
        "var_y = np.random.randint(0,40,size = 100)\n",
        "\n",
        "var_x_norm = (var_x - var_x.min()) / (var_x.max() - var_x.min())\n",
        "var_y_norm = (var_y - var_y.min()) / (var_y.max() - var_y.min()) \n",
        "\n",
        "plt.subplot(1,5,5)\n",
        "sns.scatterplot(var_x_norm,var_y_norm, color = 'green')\n",
        "plt.title(\"No outlier Min-Max Normalization\")\n",
        "plt.grid()\n",
        "\n",
        "plt.show()"
      ],
      "execution_count": 54,
      "outputs": [
        {
          "output_type": "display_data",
          "data": {
            "image/png": "[encoded data removed]",
            "text/plain": [
              "<Figure size 1080x216 with 3 Axes>"
            ]
          },
          "metadata": {
            "tags": [],
            "needs_background": "light"
          }
        }
      ]
    },
    {
      "cell_type": "code",
      "metadata": {
        "colab": {
          "base_uri": "https://localhost:8080/",
          "height": 297
        },
        "id": "XgyqwpsbsyMx",
        "outputId": "dfc0bc0d-b291-42c1-ab59-942e1cd45d88"
      },
      "source": [
        "faults_norm = (faults - faults.min()) / (faults.max() - faults.min())\n",
        "display(faults_norm.describe())"
      ],
      "execution_count": 55,
      "outputs": [
        {
          "output_type": "display_data",
          "data": {
            "text/html": [
              "<div>\n",
              "<style scoped>\n",
              "    .dataframe tbody tr th:only-of-type {\n",
              "        vertical-align: middle;\n",
              "    }\n",
              "\n",
              "    .dataframe tbody tr th {\n",
              "        vertical-align: top;\n",
              "    }\n",
              "\n",
              "    .dataframe thead th {\n",
              "        text-align: right;\n",
              "    }\n",
              "</style>\n",
              "<table border=\"1\" class=\"dataframe\">\n",
              "  <thead>\n",
              "    <tr style=\"text-align: right;\">\n",
              "      <th></th>\n",
              "      <th>X_Minimum</th>\n",
              "      <th>Y_Minimum</th>\n",
              "      <th>Pixels_Areas</th>\n",
              "      <th>Steel_Plate_Thickness</th>\n",
              "      <th>Pastry</th>\n",
              "      <th>Z_Scratch</th>\n",
              "      <th>K_Scatch</th>\n",
              "    </tr>\n",
              "  </thead>\n",
              "  <tbody>\n",
              "    <tr>\n",
              "      <th>count</th>\n",
              "      <td>10.000000</td>\n",
              "      <td>10.000000</td>\n",
              "      <td>10.000000</td>\n",
              "      <td>10.000000</td>\n",
              "      <td>10.000000</td>\n",
              "      <td>10.000000</td>\n",
              "      <td>10.000000</td>\n",
              "    </tr>\n",
              "    <tr>\n",
              "      <th>mean</th>\n",
              "      <td>0.276289</td>\n",
              "      <td>0.317380</td>\n",
              "      <td>0.252360</td>\n",
              "      <td>0.418519</td>\n",
              "      <td>0.400000</td>\n",
              "      <td>0.300000</td>\n",
              "      <td>0.300000</td>\n",
              "    </tr>\n",
              "    <tr>\n",
              "      <th>std</th>\n",
              "      <td>0.393577</td>\n",
              "      <td>0.306181</td>\n",
              "      <td>0.403859</td>\n",
              "      <td>0.398155</td>\n",
              "      <td>0.516398</td>\n",
              "      <td>0.483046</td>\n",
              "      <td>0.483046</td>\n",
              "    </tr>\n",
              "    <tr>\n",
              "      <th>min</th>\n",
              "      <td>0.000000</td>\n",
              "      <td>0.000000</td>\n",
              "      <td>0.000000</td>\n",
              "      <td>0.000000</td>\n",
              "      <td>0.000000</td>\n",
              "      <td>0.000000</td>\n",
              "      <td>0.000000</td>\n",
              "    </tr>\n",
              "    <tr>\n",
              "      <th>25%</th>\n",
              "      <td>0.006326</td>\n",
              "      <td>0.111028</td>\n",
              "      <td>0.006536</td>\n",
              "      <td>0.055556</td>\n",
              "      <td>0.000000</td>\n",
              "      <td>0.000000</td>\n",
              "      <td>0.000000</td>\n",
              "    </tr>\n",
              "    <tr>\n",
              "      <th>50%</th>\n",
              "      <td>0.084349</td>\n",
              "      <td>0.221209</td>\n",
              "      <td>0.039975</td>\n",
              "      <td>0.259259</td>\n",
              "      <td>0.000000</td>\n",
              "      <td>0.000000</td>\n",
              "      <td>0.000000</td>\n",
              "    </tr>\n",
              "    <tr>\n",
              "      <th>75%</th>\n",
              "      <td>0.317010</td>\n",
              "      <td>0.420720</td>\n",
              "      <td>0.287437</td>\n",
              "      <td>0.814815</td>\n",
              "      <td>1.000000</td>\n",
              "      <td>0.750000</td>\n",
              "      <td>0.750000</td>\n",
              "    </tr>\n",
              "    <tr>\n",
              "      <th>max</th>\n",
              "      <td>1.000000</td>\n",
              "      <td>1.000000</td>\n",
              "      <td>1.000000</td>\n",
              "      <td>1.000000</td>\n",
              "      <td>1.000000</td>\n",
              "      <td>1.000000</td>\n",
              "      <td>1.000000</td>\n",
              "    </tr>\n",
              "  </tbody>\n",
              "</table>\n",
              "</div>"
            ],
            "text/plain": [
              "       X_Minimum  Y_Minimum  Pixels_Areas  ...     Pastry  Z_Scratch   K_Scatch\n",
              "count  10.000000  10.000000     10.000000  ...  10.000000  10.000000  10.000000\n",
              "mean    0.276289   0.317380      0.252360  ...   0.400000   0.300000   0.300000\n",
              "std     0.393577   0.306181      0.403859  ...   0.516398   0.483046   0.483046\n",
              "min     0.000000   0.000000      0.000000  ...   0.000000   0.000000   0.000000\n",
              "25%     0.006326   0.111028      0.006536  ...   0.000000   0.000000   0.000000\n",
              "50%     0.084349   0.221209      0.039975  ...   0.000000   0.000000   0.000000\n",
              "75%     0.317010   0.420720      0.287437  ...   1.000000   0.750000   0.750000\n",
              "max     1.000000   1.000000      1.000000  ...   1.000000   1.000000   1.000000\n",
              "\n",
              "[8 rows x 7 columns]"
            ]
          },
          "metadata": {
            "tags": []
          }
        }
      ]
    },
    {
      "cell_type": "code",
      "metadata": {
        "colab": {
          "base_uri": "https://localhost:8080/"
        },
        "id": "6aEZnvGVtCV0",
        "outputId": "b6a45638-1d1a-4650-da1e-cf6e9871c62c"
      },
      "source": [
        "print(faults_norm[:5])\n",
        "faults_shuffle = faults_norm.sample(frac=1)\n",
        "print(faults_shuffle[:5])"
      ],
      "execution_count": 56,
      "outputs": [
        {
          "output_type": "stream",
          "text": [
            "   X_Minimum  Y_Minimum  Pixels_Areas  ...  Pastry  Z_Scratch  K_Scatch\n",
            "0   0.000000   0.086658      0.040355  ...     1.0        0.0       0.0\n",
            "1   0.976570   0.000000      0.000000  ...     0.0        0.0       1.0\n",
            "2   1.000000   1.000000      0.005584  ...     0.0        1.0       0.0\n",
            "3   0.138707   0.025757      0.006091  ...     1.0        0.0       0.0\n",
            "4   0.269916   0.247458      0.039594  ...     1.0        0.0       0.0\n",
            "\n",
            "[5 rows x 7 columns]\n",
            "   X_Minimum  Y_Minimum  Pixels_Areas  ...  Pastry  Z_Scratch  K_Scatch\n",
            "4   0.269916   0.247458      0.039594  ...     1.0        0.0       0.0\n",
            "2   1.000000   1.000000      0.005584  ...     0.0        1.0       0.0\n",
            "1   0.976570   0.000000      0.000000  ...     0.0        0.0       1.0\n",
            "3   0.138707   0.025757      0.006091  ...     1.0        0.0       0.0\n",
            "9   0.005623   0.194961      0.984010  ...     0.0        0.0       1.0\n",
            "\n",
            "[5 rows x 7 columns]\n"
          ],
          "name": "stdout"
        }
      ]
    },
    {
      "cell_type": "code",
      "metadata": {
        "colab": {
          "base_uri": "https://localhost:8080/"
        },
        "id": "YbmY_xO9txc1",
        "outputId": "35c8bf2c-b5a9-4cf2-ba8b-20069556c570"
      },
      "source": [
        "faults_np = faults_shuffle.to_numpy()\n",
        "print(type(faults_np))"
      ],
      "execution_count": 57,
      "outputs": [
        {
          "output_type": "stream",
          "text": [
            "<class 'numpy.ndarray'>\n"
          ],
          "name": "stdout"
        }
      ]
    },
    {
      "cell_type": "code",
      "metadata": {
        "colab": {
          "base_uri": "https://localhost:8080/"
        },
        "id": "Da2y7cLst_xD",
        "outputId": "ddc98e04-4975-421f-c7a9-386ca09fc359"
      },
      "source": [
        "train_ratio = 0.8\n",
        "input_cnt = 4 # 독립변수\n",
        "output_cnt = 3 # 종속변수\n",
        "\n",
        "train_idx = int(len(faults_np)* train_ratio)\n",
        "print(train_idx)"
      ],
      "execution_count": 58,
      "outputs": [
        {
          "output_type": "stream",
          "text": [
            "8\n"
          ],
          "name": "stdout"
        }
      ]
    },
    {
      "cell_type": "code",
      "metadata": {
        "id": "8alPjFAIuapT"
      },
      "source": [
        "train_X, train_Y = faults_np[:train_idx, :-output_cnt], faults_np[:train_idx, -output_cnt:]"
      ],
      "execution_count": 59,
      "outputs": []
    },
    {
      "cell_type": "code",
      "metadata": {
        "id": "m6wWzfsqu8ZW"
      },
      "source": [
        "test_X, test_Y = faults_np[train_idx :,: -output_cnt], faults_np[train_idx:,-output_cnt:]"
      ],
      "execution_count": 60,
      "outputs": []
    },
    {
      "cell_type": "code",
      "metadata": {
        "colab": {
          "base_uri": "https://localhost:8080/"
        },
        "id": "pLg3yFX_vN7e",
        "outputId": "495df038-f44f-4354-ae6e-e1ed7ff8e815"
      },
      "source": [
        "print(train_Y.shape)\n",
        "print(test_Y.shape)"
      ],
      "execution_count": 61,
      "outputs": [
        {
          "output_type": "stream",
          "text": [
            "(8, 3)\n",
            "(2, 3)\n"
          ],
          "name": "stdout"
        }
      ]
    },
    {
      "cell_type": "code",
      "metadata": {
        "id": "KXc5MLZEvUKj"
      },
      "source": [
        "simple_layer_model = tf.keras.Sequential([\n",
        "                                          tf.keras.layers.Dense(units=3, \n",
        "                                                                activation = 'softmax',\n",
        "                                                                input_shape = (4,))\n",
        "                                          ])"
      ],
      "execution_count": 62,
      "outputs": []
    },
    {
      "cell_type": "code",
      "metadata": {
        "colab": {
          "base_uri": "https://localhost:8080/"
        },
        "id": "Ytj6XB_EwtV1",
        "outputId": "285540ff-ed3e-4f4b-e005-b0348aa2aa34"
      },
      "source": [
        "simple_layer_model.summary()"
      ],
      "execution_count": 63,
      "outputs": [
        {
          "output_type": "stream",
          "text": [
            "Model: \"sequential_2\"\n",
            "_________________________________________________________________\n",
            "Layer (type)                 Output Shape              Param #   \n",
            "=================================================================\n",
            "dense_5 (Dense)              (None, 3)                 15        \n",
            "=================================================================\n",
            "Total params: 15\n",
            "Trainable params: 15\n",
            "Non-trainable params: 0\n",
            "_________________________________________________________________\n"
          ],
          "name": "stdout"
        }
      ]
    },
    {
      "cell_type": "code",
      "metadata": {
        "id": "vkuH0jo0wxRY"
      },
      "source": [
        "simple_layer_model.compile(optimizer=tf.keras.optimizers.Adam(learning_rate=0.01),\n",
        "                           loss = 'categorical_crossentropy', metrics = ['accuracy'])\n"
      ],
      "execution_count": 64,
      "outputs": []
    },
    {
      "cell_type": "code",
      "metadata": {
        "colab": {
          "base_uri": "https://localhost:8080/"
        },
        "id": "Uo0OoPG3xwaB",
        "outputId": "6cb8aaf0-3166-48f0-efda-143f6fe1173c"
      },
      "source": [
        "history_1 = simple_layer_model.fit(train_X, train_Y,\n",
        "                       epochs = 25,\n",
        "                       batch_size = 2)"
      ],
      "execution_count": 65,
      "outputs": [
        {
          "output_type": "stream",
          "text": [
            "Epoch 1/25\n",
            "4/4 [==============================] - 0s 3ms/step - loss: 1.2882 - accuracy: 0.0000e+00\n",
            "Epoch 2/25\n",
            "4/4 [==============================] - 0s 4ms/step - loss: 1.2555 - accuracy: 0.0000e+00\n",
            "Epoch 3/25\n",
            "4/4 [==============================] - 0s 3ms/step - loss: 1.2298 - accuracy: 0.0000e+00\n",
            "Epoch 4/25\n",
            "4/4 [==============================] - 0s 2ms/step - loss: 1.2038 - accuracy: 0.0000e+00\n",
            "Epoch 5/25\n",
            "4/4 [==============================] - 0s 3ms/step - loss: 1.1839 - accuracy: 0.2500\n",
            "Epoch 6/25\n",
            "4/4 [==============================] - 0s 3ms/step - loss: 1.1608 - accuracy: 0.2500\n",
            "Epoch 7/25\n",
            "4/4 [==============================] - 0s 2ms/step - loss: 1.1363 - accuracy: 0.2500\n",
            "Epoch 8/25\n",
            "4/4 [==============================] - 0s 2ms/step - loss: 1.1170 - accuracy: 0.3750\n",
            "Epoch 9/25\n",
            "4/4 [==============================] - 0s 3ms/step - loss: 1.0991 - accuracy: 0.3750\n",
            "Epoch 10/25\n",
            "4/4 [==============================] - 0s 2ms/step - loss: 1.0801 - accuracy: 0.5000\n",
            "Epoch 11/25\n",
            "4/4 [==============================] - 0s 3ms/step - loss: 1.0578 - accuracy: 0.5000\n",
            "Epoch 12/25\n",
            "4/4 [==============================] - 0s 3ms/step - loss: 1.0427 - accuracy: 0.6250\n",
            "Epoch 13/25\n",
            "4/4 [==============================] - 0s 2ms/step - loss: 1.0225 - accuracy: 0.7500\n",
            "Epoch 14/25\n",
            "4/4 [==============================] - 0s 3ms/step - loss: 1.0067 - accuracy: 0.7500\n",
            "Epoch 15/25\n",
            "4/4 [==============================] - 0s 5ms/step - loss: 0.9907 - accuracy: 0.7500\n",
            "Epoch 16/25\n",
            "4/4 [==============================] - 0s 4ms/step - loss: 0.9743 - accuracy: 0.7500\n",
            "Epoch 17/25\n",
            "4/4 [==============================] - 0s 3ms/step - loss: 0.9591 - accuracy: 0.7500\n",
            "Epoch 18/25\n",
            "4/4 [==============================] - 0s 3ms/step - loss: 0.9427 - accuracy: 0.7500\n",
            "Epoch 19/25\n",
            "4/4 [==============================] - 0s 4ms/step - loss: 0.9269 - accuracy: 0.7500\n",
            "Epoch 20/25\n",
            "4/4 [==============================] - 0s 2ms/step - loss: 0.9138 - accuracy: 0.7500\n",
            "Epoch 21/25\n",
            "4/4 [==============================] - 0s 2ms/step - loss: 0.9008 - accuracy: 0.7500\n",
            "Epoch 22/25\n",
            "4/4 [==============================] - 0s 2ms/step - loss: 0.8862 - accuracy: 0.7500\n",
            "Epoch 23/25\n",
            "4/4 [==============================] - 0s 2ms/step - loss: 0.8724 - accuracy: 0.7500\n",
            "Epoch 24/25\n",
            "4/4 [==============================] - 0s 2ms/step - loss: 0.8586 - accuracy: 0.7500\n",
            "Epoch 25/25\n",
            "4/4 [==============================] - 0s 3ms/step - loss: 0.8459 - accuracy: 0.7500\n"
          ],
          "name": "stdout"
        }
      ]
    },
    {
      "cell_type": "code",
      "metadata": {
        "colab": {
          "base_uri": "https://localhost:8080/",
          "height": 279
        },
        "id": "aFaWZIP9yG9H",
        "outputId": "90c191a7-715e-45ae-c2ef-be45a4ba4e2b"
      },
      "source": [
        "plt.figure(figsize=(12,4))\n",
        "plt.plot(history_1.history['loss'], 'b--o', label = 'loss')\n",
        "plt.plot(history_1.history['accuracy'], 'r--o', label = 'acc')\n",
        "plt.xlabel('Epcch')\n",
        "plt.ylabel('Loss')\n",
        "plt.legend()\n",
        "plt.grid()\n",
        "plt.show()"
      ],
      "execution_count": 66,
      "outputs": [
        {
          "output_type": "display_data",
          "data": {
            "image/png": "[encoded data removed]",
            "text/plain": [
              "<Figure size 864x288 with 1 Axes>"
            ]
          },
          "metadata": {
            "tags": [],
            "needs_background": "light"
          }
        }
      ]
    },
    {
      "cell_type": "code",
      "metadata": {
        "colab": {
          "base_uri": "https://localhost:8080/"
        },
        "id": "_xnrol04ywbL",
        "outputId": "be9c1ab8-5015-48d0-a431-8370200abd78"
      },
      "source": [
        "simple_layer_model.evaluate(test_X,test_Y)"
      ],
      "execution_count": 67,
      "outputs": [
        {
          "output_type": "stream",
          "text": [
            "1/1 [==============================] - 0s 116ms/step - loss: 1.0413 - accuracy: 0.5000\n"
          ],
          "name": "stdout"
        },
        {
          "output_type": "execute_result",
          "data": {
            "text/plain": [
              "[1.041345238685608, 0.5]"
            ]
          },
          "metadata": {
            "tags": []
          },
          "execution_count": 67
        }
      ]
    },
    {
      "cell_type": "code",
      "metadata": {
        "colab": {
          "base_uri": "https://localhost:8080/"
        },
        "id": "vr7HR1jRy-vu",
        "outputId": "cde9d4b1-5782-4c41-dd53-4c8634558f51"
      },
      "source": [
        "test_Y.shape"
      ],
      "execution_count": 68,
      "outputs": [
        {
          "output_type": "execute_result",
          "data": {
            "text/plain": [
              "(2, 3)"
            ]
          },
          "metadata": {
            "tags": []
          },
          "execution_count": 68
        }
      ]
    },
    {
      "cell_type": "code",
      "metadata": {
        "colab": {
          "base_uri": "https://localhost:8080/"
        },
        "id": "60-txzen3lZo",
        "outputId": "2a6740e1-69ef-4997-d0c4-767a4d8e5452"
      },
      "source": [
        "pred_Y = simple_layer_model.predict(test_X)\n",
        "print(\"pred_Y : \", pred_Y)"
      ],
      "execution_count": 69,
      "outputs": [
        {
          "output_type": "stream",
          "text": [
            "pred_Y :  [[0.38109827 0.32028064 0.2986211 ]\n",
            " [0.38901675 0.29611304 0.3148702 ]]\n"
          ],
          "name": "stdout"
        }
      ]
    },
    {
      "cell_type": "code",
      "metadata": {
        "colab": {
          "base_uri": "https://localhost:8080/"
        },
        "id": "8YVIQaCz3yNW",
        "outputId": "61dd72ec-7b7a-4829-d71e-e777f6eb35bb"
      },
      "source": [
        "pred_Y = np.argmax(pred_Y, axis = 1)\n",
        "print(\"pred_Y :\", pred_Y)"
      ],
      "execution_count": 70,
      "outputs": [
        {
          "output_type": "stream",
          "text": [
            "pred_Y : [0 0]\n"
          ],
          "name": "stdout"
        }
      ]
    },
    {
      "cell_type": "code",
      "metadata": {
        "colab": {
          "base_uri": "https://localhost:8080/"
        },
        "id": "011fO4XN30Zs",
        "outputId": "bc40501f-a23c-4b56-f869-5f5087c1f1fb"
      },
      "source": [
        "test_Y = np.argmax(test_Y, axis = 1)\n",
        "print(\"test_Y :\", test_Y)"
      ],
      "execution_count": 71,
      "outputs": [
        {
          "output_type": "stream",
          "text": [
            "test_Y : [1 0]\n"
          ],
          "name": "stdout"
        }
      ]
    },
    {
      "cell_type": "code",
      "metadata": {
        "colab": {
          "base_uri": "https://localhost:8080/"
        },
        "id": "O3x30FOC5O4l",
        "outputId": "8b66e8f8-5e24-434c-d5b1-d0c523fbccc6"
      },
      "source": [
        "np.equal(pred_Y, test_Y)"
      ],
      "execution_count": 72,
      "outputs": [
        {
          "output_type": "execute_result",
          "data": {
            "text/plain": [
              "array([False,  True])"
            ]
          },
          "metadata": {
            "tags": []
          },
          "execution_count": 72
        }
      ]
    },
    {
      "cell_type": "code",
      "metadata": {
        "colab": {
          "base_uri": "https://localhost:8080/"
        },
        "id": "sCanpMhi5fRV",
        "outputId": "e7e4f0a4-28a7-49ce-c6b1-b434e34f1615"
      },
      "source": [
        "acc = np.mean(np.equal(pred_Y, test_Y))\n",
        "print(\"ACC : {} %\".format(acc * 100))"
      ],
      "execution_count": 73,
      "outputs": [
        {
          "output_type": "stream",
          "text": [
            "ACC : 50.0 %\n"
          ],
          "name": "stdout"
        }
      ]
    },
    {
      "cell_type": "code",
      "metadata": {
        "colab": {
          "base_uri": "https://localhost:8080/"
        },
        "id": "wdDao3DB5rHk",
        "outputId": "abe83ac3-3a63-44e9-8c64-3ec8c10d7a5f"
      },
      "source": [
        "\n",
        "df_dataset = pd.read_csv('/content/drive/MyDrive/Deep/faults.csv')\n",
        "df_dataset.info()"
      ],
      "execution_count": 74,
      "outputs": [
        {
          "output_type": "stream",
          "text": [
            "<class 'pandas.core.frame.DataFrame'>\n",
            "RangeIndex: 1941 entries, 0 to 1940\n",
            "Data columns (total 34 columns):\n",
            " #   Column                 Non-Null Count  Dtype  \n",
            "---  ------                 --------------  -----  \n",
            " 0   X_Minimum              1941 non-null   int64  \n",
            " 1   X_Maximum              1941 non-null   int64  \n",
            " 2   Y_Minimum              1941 non-null   int64  \n",
            " 3   Y_Maximum              1941 non-null   int64  \n",
            " 4   Pixels_Areas           1941 non-null   int64  \n",
            " 5   X_Perimeter            1941 non-null   int64  \n",
            " 6   Y_Perimeter            1941 non-null   int64  \n",
            " 7   Sum_of_Luminosity      1941 non-null   int64  \n",
            " 8   Minimum_of_Luminosity  1941 non-null   int64  \n",
            " 9   Maximum_of_Luminosity  1941 non-null   int64  \n",
            " 10  Length_of_Conveyer     1941 non-null   int64  \n",
            " 11  TypeOfSteel_A300       1941 non-null   int64  \n",
            " 12  TypeOfSteel_A400       1941 non-null   int64  \n",
            " 13  Steel_Plate_Thickness  1941 non-null   int64  \n",
            " 14  Edges_Index            1941 non-null   float64\n",
            " 15  Empty_Index            1941 non-null   float64\n",
            " 16  Square_Index           1941 non-null   float64\n",
            " 17  Outside_X_Index        1941 non-null   float64\n",
            " 18  Edges_X_Index          1941 non-null   float64\n",
            " 19  Edges_Y_Index          1941 non-null   float64\n",
            " 20  Outside_Global_Index   1941 non-null   float64\n",
            " 21  LogOfAreas             1941 non-null   float64\n",
            " 22  Log_X_Index            1941 non-null   float64\n",
            " 23  Log_Y_Index            1941 non-null   float64\n",
            " 24  Orientation_Index      1941 non-null   float64\n",
            " 25  Luminosity_Index       1941 non-null   float64\n",
            " 26  SigmoidOfAreas         1941 non-null   float64\n",
            " 27  Pastry                 1941 non-null   int64  \n",
            " 28  Z_Scratch              1941 non-null   int64  \n",
            " 29  K_Scatch               1941 non-null   int64  \n",
            " 30  Stains                 1941 non-null   int64  \n",
            " 31  Dirtiness              1941 non-null   int64  \n",
            " 32  Bumps                  1941 non-null   int64  \n",
            " 33  Other_Faults           1941 non-null   int64  \n",
            "dtypes: float64(13), int64(21)\n",
            "memory usage: 515.7 KB\n"
          ],
          "name": "stdout"
        }
      ]
    },
    {
      "cell_type": "code",
      "metadata": {
        "id": "cbaoe0sX50lC"
      },
      "source": [
        "faults_norm = (df_dataset - df_dataset.min()) / (df_dataset.max() - df_dataset.min()) "
      ],
      "execution_count": 75,
      "outputs": []
    },
    {
      "cell_type": "code",
      "metadata": {
        "colab": {
          "base_uri": "https://localhost:8080/",
          "height": 317
        },
        "id": "GztD4xbC6RtG",
        "outputId": "5b8ee32f-7be7-424a-9452-6a73ee1e4e7d"
      },
      "source": [
        "faults_norm.describe()"
      ],
      "execution_count": 76,
      "outputs": [
        {
          "output_type": "execute_result",
          "data": {
            "text/html": [
              "<div>\n",
              "<style scoped>\n",
              "    .dataframe tbody tr th:only-of-type {\n",
              "        vertical-align: middle;\n",
              "    }\n",
              "\n",
              "    .dataframe tbody tr th {\n",
              "        vertical-align: top;\n",
              "    }\n",
              "\n",
              "    .dataframe thead th {\n",
              "        text-align: right;\n",
              "    }\n",
              "</style>\n",
              "<table border=\"1\" class=\"dataframe\">\n",
              "  <thead>\n",
              "    <tr style=\"text-align: right;\">\n",
              "      <th></th>\n",
              "      <th>X_Minimum</th>\n",
              "      <th>X_Maximum</th>\n",
              "      <th>Y_Minimum</th>\n",
              "      <th>Y_Maximum</th>\n",
              "      <th>Pixels_Areas</th>\n",
              "      <th>X_Perimeter</th>\n",
              "      <th>Y_Perimeter</th>\n",
              "      <th>Sum_of_Luminosity</th>\n",
              "      <th>Minimum_of_Luminosity</th>\n",
              "      <th>Maximum_of_Luminosity</th>\n",
              "      <th>Length_of_Conveyer</th>\n",
              "      <th>TypeOfSteel_A300</th>\n",
              "      <th>TypeOfSteel_A400</th>\n",
              "      <th>Steel_Plate_Thickness</th>\n",
              "      <th>Edges_Index</th>\n",
              "      <th>Empty_Index</th>\n",
              "      <th>Square_Index</th>\n",
              "      <th>Outside_X_Index</th>\n",
              "      <th>Edges_X_Index</th>\n",
              "      <th>Edges_Y_Index</th>\n",
              "      <th>Outside_Global_Index</th>\n",
              "      <th>LogOfAreas</th>\n",
              "      <th>Log_X_Index</th>\n",
              "      <th>Log_Y_Index</th>\n",
              "      <th>Orientation_Index</th>\n",
              "      <th>Luminosity_Index</th>\n",
              "      <th>SigmoidOfAreas</th>\n",
              "      <th>Pastry</th>\n",
              "      <th>Z_Scratch</th>\n",
              "      <th>K_Scatch</th>\n",
              "      <th>Stains</th>\n",
              "      <th>Dirtiness</th>\n",
              "      <th>Bumps</th>\n",
              "      <th>Other_Faults</th>\n",
              "    </tr>\n",
              "  </thead>\n",
              "  <tbody>\n",
              "    <tr>\n",
              "      <th>count</th>\n",
              "      <td>1941.000000</td>\n",
              "      <td>1941.000000</td>\n",
              "      <td>1941.000000</td>\n",
              "      <td>1941.000000</td>\n",
              "      <td>1941.000000</td>\n",
              "      <td>1941.000000</td>\n",
              "      <td>1941.000000</td>\n",
              "      <td>1941.000000</td>\n",
              "      <td>1941.000000</td>\n",
              "      <td>1941.000000</td>\n",
              "      <td>1941.000000</td>\n",
              "      <td>1941.000000</td>\n",
              "      <td>1941.000000</td>\n",
              "      <td>1941.000000</td>\n",
              "      <td>1941.000000</td>\n",
              "      <td>1941.000000</td>\n",
              "      <td>1941.000000</td>\n",
              "      <td>1941.000000</td>\n",
              "      <td>1941.000000</td>\n",
              "      <td>1941.000000</td>\n",
              "      <td>1941.000000</td>\n",
              "      <td>1941.000000</td>\n",
              "      <td>1941.000000</td>\n",
              "      <td>1941.000000</td>\n",
              "      <td>1941.000000</td>\n",
              "      <td>1941.000000</td>\n",
              "      <td>1941.000000</td>\n",
              "      <td>1941.000000</td>\n",
              "      <td>1941.000000</td>\n",
              "      <td>1941.000000</td>\n",
              "      <td>1941.000000</td>\n",
              "      <td>1941.000000</td>\n",
              "      <td>1941.000000</td>\n",
              "      <td>1941.000000</td>\n",
              "    </tr>\n",
              "    <tr>\n",
              "      <th>mean</th>\n",
              "      <td>0.334977</td>\n",
              "      <td>0.359254</td>\n",
              "      <td>0.126645</td>\n",
              "      <td>0.126648</td>\n",
              "      <td>0.012393</td>\n",
              "      <td>0.010515</td>\n",
              "      <td>0.004516</td>\n",
              "      <td>0.017778</td>\n",
              "      <td>0.416496</td>\n",
              "      <td>0.431452</td>\n",
              "      <td>0.409454</td>\n",
              "      <td>0.400309</td>\n",
              "      <td>0.599691</td>\n",
              "      <td>0.148991</td>\n",
              "      <td>0.333315</td>\n",
              "      <td>0.438821</td>\n",
              "      <td>0.567175</td>\n",
              "      <td>0.036438</td>\n",
              "      <td>0.604838</td>\n",
              "      <td>0.803985</td>\n",
              "      <td>0.575734</td>\n",
              "      <td>0.448807</td>\n",
              "      <td>0.373115</td>\n",
              "      <td>0.329507</td>\n",
              "      <td>0.541831</td>\n",
              "      <td>0.528699</td>\n",
              "      <td>0.529422</td>\n",
              "      <td>0.081401</td>\n",
              "      <td>0.097888</td>\n",
              "      <td>0.201443</td>\n",
              "      <td>0.037094</td>\n",
              "      <td>0.028336</td>\n",
              "      <td>0.207110</td>\n",
              "      <td>0.346728</td>\n",
              "    </tr>\n",
              "    <tr>\n",
              "      <th>std</th>\n",
              "      <td>0.305390</td>\n",
              "      <td>0.291180</td>\n",
              "      <td>0.136706</td>\n",
              "      <td>0.136707</td>\n",
              "      <td>0.033858</td>\n",
              "      <td>0.028832</td>\n",
              "      <td>0.023496</td>\n",
              "      <td>0.044197</td>\n",
              "      <td>0.158297</td>\n",
              "      <td>0.086532</td>\n",
              "      <td>0.254987</td>\n",
              "      <td>0.490087</td>\n",
              "      <td>0.490087</td>\n",
              "      <td>0.211869</td>\n",
              "      <td>0.301157</td>\n",
              "      <td>0.145420</td>\n",
              "      <td>0.273327</td>\n",
              "      <td>0.067430</td>\n",
              "      <td>0.246831</td>\n",
              "      <td>0.246189</td>\n",
              "      <td>0.482352</td>\n",
              "      <td>0.161577</td>\n",
              "      <td>0.173673</td>\n",
              "      <td>0.106686</td>\n",
              "      <td>0.252619</td>\n",
              "      <td>0.090656</td>\n",
              "      <td>0.385303</td>\n",
              "      <td>0.273521</td>\n",
              "      <td>0.297239</td>\n",
              "      <td>0.401181</td>\n",
              "      <td>0.189042</td>\n",
              "      <td>0.165973</td>\n",
              "      <td>0.405339</td>\n",
              "      <td>0.476051</td>\n",
              "    </tr>\n",
              "    <tr>\n",
              "      <th>min</th>\n",
              "      <td>0.000000</td>\n",
              "      <td>0.000000</td>\n",
              "      <td>0.000000</td>\n",
              "      <td>0.000000</td>\n",
              "      <td>0.000000</td>\n",
              "      <td>0.000000</td>\n",
              "      <td>0.000000</td>\n",
              "      <td>0.000000</td>\n",
              "      <td>0.000000</td>\n",
              "      <td>0.000000</td>\n",
              "      <td>0.000000</td>\n",
              "      <td>0.000000</td>\n",
              "      <td>0.000000</td>\n",
              "      <td>0.000000</td>\n",
              "      <td>0.000000</td>\n",
              "      <td>0.000000</td>\n",
              "      <td>0.000000</td>\n",
              "      <td>0.000000</td>\n",
              "      <td>0.000000</td>\n",
              "      <td>0.000000</td>\n",
              "      <td>0.000000</td>\n",
              "      <td>0.000000</td>\n",
              "      <td>0.000000</td>\n",
              "      <td>0.000000</td>\n",
              "      <td>0.000000</td>\n",
              "      <td>0.000000</td>\n",
              "      <td>0.000000</td>\n",
              "      <td>0.000000</td>\n",
              "      <td>0.000000</td>\n",
              "      <td>0.000000</td>\n",
              "      <td>0.000000</td>\n",
              "      <td>0.000000</td>\n",
              "      <td>0.000000</td>\n",
              "      <td>0.000000</td>\n",
              "    </tr>\n",
              "    <tr>\n",
              "      <th>25%</th>\n",
              "      <td>0.029912</td>\n",
              "      <td>0.110006</td>\n",
              "      <td>0.035786</td>\n",
              "      <td>0.035788</td>\n",
              "      <td>0.000537</td>\n",
              "      <td>0.001244</td>\n",
              "      <td>0.000661</td>\n",
              "      <td>0.000800</td>\n",
              "      <td>0.310345</td>\n",
              "      <td>0.402778</td>\n",
              "      <td>0.231041</td>\n",
              "      <td>0.000000</td>\n",
              "      <td>0.000000</td>\n",
              "      <td>0.000000</td>\n",
              "      <td>0.060691</td>\n",
              "      <td>0.334569</td>\n",
              "      <td>0.355954</td>\n",
              "      <td>0.005833</td>\n",
              "      <td>0.403206</td>\n",
              "      <td>0.576293</td>\n",
              "      <td>0.000000</td>\n",
              "      <td>0.332459</td>\n",
              "      <td>0.252064</td>\n",
              "      <td>0.253411</td>\n",
              "      <td>0.331719</td>\n",
              "      <td>0.489884</td>\n",
              "      <td>0.146652</td>\n",
              "      <td>0.000000</td>\n",
              "      <td>0.000000</td>\n",
              "      <td>0.000000</td>\n",
              "      <td>0.000000</td>\n",
              "      <td>0.000000</td>\n",
              "      <td>0.000000</td>\n",
              "      <td>0.000000</td>\n",
              "    </tr>\n",
              "    <tr>\n",
              "      <th>50%</th>\n",
              "      <td>0.255132</td>\n",
              "      <td>0.270919</td>\n",
              "      <td>0.092244</td>\n",
              "      <td>0.092244</td>\n",
              "      <td>0.001127</td>\n",
              "      <td>0.002297</td>\n",
              "      <td>0.001322</td>\n",
              "      <td>0.001635</td>\n",
              "      <td>0.443350</td>\n",
              "      <td>0.416667</td>\n",
              "      <td>0.241623</td>\n",
              "      <td>0.000000</td>\n",
              "      <td>1.000000</td>\n",
              "      <td>0.115385</td>\n",
              "      <td>0.228396</td>\n",
              "      <td>0.436593</td>\n",
              "      <td>0.551881</td>\n",
              "      <td>0.009835</td>\n",
              "      <td>0.631088</td>\n",
              "      <td>0.944725</td>\n",
              "      <td>1.000000</td>\n",
              "      <td>0.397239</td>\n",
              "      <td>0.315567</td>\n",
              "      <td>0.310470</td>\n",
              "      <td>0.547839</td>\n",
              "      <td>0.527666</td>\n",
              "      <td>0.439614</td>\n",
              "      <td>0.000000</td>\n",
              "      <td>0.000000</td>\n",
              "      <td>0.000000</td>\n",
              "      <td>0.000000</td>\n",
              "      <td>0.000000</td>\n",
              "      <td>0.000000</td>\n",
              "      <td>0.000000</td>\n",
              "    </tr>\n",
              "    <tr>\n",
              "      <th>75%</th>\n",
              "      <td>0.617595</td>\n",
              "      <td>0.624927</td>\n",
              "      <td>0.167658</td>\n",
              "      <td>0.167658</td>\n",
              "      <td>0.005372</td>\n",
              "      <td>0.007849</td>\n",
              "      <td>0.004518</td>\n",
              "      <td>0.007140</td>\n",
              "      <td>0.522167</td>\n",
              "      <td>0.476852</td>\n",
              "      <td>0.746032</td>\n",
              "      <td>1.000000</td>\n",
              "      <td>1.000000</td>\n",
              "      <td>0.153846</td>\n",
              "      <td>0.576568</td>\n",
              "      <td>0.531412</td>\n",
              "      <td>0.816678</td>\n",
              "      <td>0.025160</td>\n",
              "      <td>0.797078</td>\n",
              "      <td>1.000000</td>\n",
              "      <td>1.000000</td>\n",
              "      <td>0.535339</td>\n",
              "      <td>0.439039</td>\n",
              "      <td>0.406791</td>\n",
              "      <td>0.757855</td>\n",
              "      <td>0.568129</td>\n",
              "      <td>0.999773</td>\n",
              "      <td>0.000000</td>\n",
              "      <td>0.000000</td>\n",
              "      <td>0.000000</td>\n",
              "      <td>0.000000</td>\n",
              "      <td>0.000000</td>\n",
              "      <td>0.000000</td>\n",
              "      <td>1.000000</td>\n",
              "    </tr>\n",
              "    <tr>\n",
              "      <th>max</th>\n",
              "      <td>1.000000</td>\n",
              "      <td>1.000000</td>\n",
              "      <td>1.000000</td>\n",
              "      <td>1.000000</td>\n",
              "      <td>1.000000</td>\n",
              "      <td>1.000000</td>\n",
              "      <td>1.000000</td>\n",
              "      <td>1.000000</td>\n",
              "      <td>1.000000</td>\n",
              "      <td>1.000000</td>\n",
              "      <td>1.000000</td>\n",
              "      <td>1.000000</td>\n",
              "      <td>1.000000</td>\n",
              "      <td>1.000000</td>\n",
              "      <td>1.000000</td>\n",
              "      <td>1.000000</td>\n",
              "      <td>1.000000</td>\n",
              "      <td>1.000000</td>\n",
              "      <td>1.000000</td>\n",
              "      <td>1.000000</td>\n",
              "      <td>1.000000</td>\n",
              "      <td>1.000000</td>\n",
              "      <td>1.000000</td>\n",
              "      <td>1.000000</td>\n",
              "      <td>1.000000</td>\n",
              "      <td>1.000000</td>\n",
              "      <td>1.000000</td>\n",
              "      <td>1.000000</td>\n",
              "      <td>1.000000</td>\n",
              "      <td>1.000000</td>\n",
              "      <td>1.000000</td>\n",
              "      <td>1.000000</td>\n",
              "      <td>1.000000</td>\n",
              "      <td>1.000000</td>\n",
              "    </tr>\n",
              "  </tbody>\n",
              "</table>\n",
              "</div>"
            ],
            "text/plain": [
              "         X_Minimum    X_Maximum  ...        Bumps  Other_Faults\n",
              "count  1941.000000  1941.000000  ...  1941.000000   1941.000000\n",
              "mean      0.334977     0.359254  ...     0.207110      0.346728\n",
              "std       0.305390     0.291180  ...     0.405339      0.476051\n",
              "min       0.000000     0.000000  ...     0.000000      0.000000\n",
              "25%       0.029912     0.110006  ...     0.000000      0.000000\n",
              "50%       0.255132     0.270919  ...     0.000000      0.000000\n",
              "75%       0.617595     0.624927  ...     0.000000      1.000000\n",
              "max       1.000000     1.000000  ...     1.000000      1.000000\n",
              "\n",
              "[8 rows x 34 columns]"
            ]
          },
          "metadata": {
            "tags": []
          },
          "execution_count": 76
        }
      ]
    },
    {
      "cell_type": "code",
      "metadata": {
        "colab": {
          "base_uri": "https://localhost:8080/"
        },
        "id": "xsKhw5iY6tYO",
        "outputId": "163014af-0562-4721-f638-fda76f754cd8"
      },
      "source": [
        "faults_shuffle = faults_norm.sample(frac = 1) \n",
        "print(faults_shuffle[:5])\n",
        "print(type(faults_norm))"
      ],
      "execution_count": 77,
      "outputs": [
        {
          "output_type": "stream",
          "text": [
            "      X_Minimum  X_Maximum  Y_Minimum  ...  Dirtiness  Bumps  Other_Faults\n",
            "166    0.039883   0.057929   0.010965  ...        0.0    0.0           0.0\n",
            "1609   0.781818   0.783499   0.125718  ...        0.0    0.0           1.0\n",
            "1307   0.016422   0.018724   0.247061  ...        0.0    0.0           1.0\n",
            "1553   0.778299   0.777063   0.109807  ...        0.0    0.0           1.0\n",
            "683    0.021701   0.121709   0.211444  ...        0.0    0.0           0.0\n",
            "\n",
            "[5 rows x 34 columns]\n",
            "<class 'pandas.core.frame.DataFrame'>\n"
          ],
          "name": "stdout"
        }
      ]
    },
    {
      "cell_type": "code",
      "metadata": {
        "colab": {
          "base_uri": "https://localhost:8080/"
        },
        "id": "1pj0ExsF6usW",
        "outputId": "8ac36a85-1c20-409d-801f-5d7e39718cf2"
      },
      "source": [
        "faults_np = faults_shuffle.to_numpy()\n",
        "print(type(faults_np))"
      ],
      "execution_count": 78,
      "outputs": [
        {
          "output_type": "stream",
          "text": [
            "<class 'numpy.ndarray'>\n"
          ],
          "name": "stdout"
        }
      ]
    },
    {
      "cell_type": "code",
      "metadata": {
        "id": "eAGY4TC664gY"
      },
      "source": [
        "train_ratio = 0.9\n",
        "input_cnt   = 27\n",
        "output_cnt  = 7"
      ],
      "execution_count": 79,
      "outputs": []
    },
    {
      "cell_type": "code",
      "metadata": {
        "colab": {
          "base_uri": "https://localhost:8080/"
        },
        "id": "9TiXzB4R7KSC",
        "outputId": "5543123c-33b0-4b9d-d50e-7e325cf9ee8a"
      },
      "source": [
        "train_idx = int(len(faults_np) * train_ratio)\n",
        "print(\"train_idx : \", train_idx)"
      ],
      "execution_count": 80,
      "outputs": [
        {
          "output_type": "stream",
          "text": [
            "train_idx :  1746\n"
          ],
          "name": "stdout"
        }
      ]
    },
    {
      "cell_type": "code",
      "metadata": {
        "id": "6MctF84K8RRn"
      },
      "source": [
        "train_X, train_Y = faults_np[:train_idx, :-output_cnt], faults_np[:train_idx, -output_cnt : ]\n",
        "test_X, test_Y = faults_np[train_idx:, :-output_cnt], faults_np[train_idx:, -output_cnt : ]"
      ],
      "execution_count": 81,
      "outputs": []
    },
    {
      "cell_type": "code",
      "metadata": {
        "colab": {
          "base_uri": "https://localhost:8080/"
        },
        "id": "LYekrPdS8SgT",
        "outputId": "2fc38d72-b794-4109-bfa1-90516543a1bc"
      },
      "source": [
        "print(train_X.shape)\n",
        "print(train_Y.shape)\n",
        "\n",
        "print(test_X.shape)\n",
        "print(test_Y.shape)"
      ],
      "execution_count": 82,
      "outputs": [
        {
          "output_type": "stream",
          "text": [
            "(1746, 27)\n",
            "(1746, 7)\n",
            "(195, 27)\n",
            "(195, 7)\n"
          ],
          "name": "stdout"
        }
      ]
    },
    {
      "cell_type": "code",
      "metadata": {
        "id": "K2uKHpel8nyg"
      },
      "source": [
        "multi_layer_model = tf.keras.Sequential([\n",
        "                                         tf.keras.layers.Dense(units= 48,\n",
        "                                                               activation = 'elu',\n",
        "                                                               input_shape = (27,)),\n",
        "                                         tf.keras.layers.Dense(units=24,\n",
        "                                                               activation = 'elu'),\n",
        "                                         tf.keras.layers.Dense(units=12,\n",
        "                                                               activation = 'elu'),\n",
        "                                         tf.keras.layers.Dense(units=7,\n",
        "                                                               activation = 'softmax')\n",
        "])"
      ],
      "execution_count": 83,
      "outputs": []
    },
    {
      "cell_type": "code",
      "metadata": {
        "colab": {
          "base_uri": "https://localhost:8080/"
        },
        "id": "MrlsJYX29ye_",
        "outputId": "a87c394d-75cc-4b2d-f480-48790efde3a4"
      },
      "source": [
        "multi_layer_model.summary()"
      ],
      "execution_count": 84,
      "outputs": [
        {
          "output_type": "stream",
          "text": [
            "Model: \"sequential_3\"\n",
            "_________________________________________________________________\n",
            "Layer (type)                 Output Shape              Param #   \n",
            "=================================================================\n",
            "dense_6 (Dense)              (None, 48)                1344      \n",
            "_________________________________________________________________\n",
            "dense_7 (Dense)              (None, 24)                1176      \n",
            "_________________________________________________________________\n",
            "dense_8 (Dense)              (None, 12)                300       \n",
            "_________________________________________________________________\n",
            "dense_9 (Dense)              (None, 7)                 91        \n",
            "=================================================================\n",
            "Total params: 2,911\n",
            "Trainable params: 2,911\n",
            "Non-trainable params: 0\n",
            "_________________________________________________________________\n"
          ],
          "name": "stdout"
        }
      ]
    },
    {
      "cell_type": "code",
      "metadata": {
        "id": "eOVXlQVO-7d5"
      },
      "source": [
        "multi_layer_model.compile(optimizer=tf.keras.optimizers.Adam(learning_rate=0.01),\n",
        "                          loss = 'categorical_crossentropy')"
      ],
      "execution_count": 85,
      "outputs": []
    },
    {
      "cell_type": "code",
      "metadata": {
        "colab": {
          "base_uri": "https://localhost:8080/"
        },
        "id": "dRi1C62w--eo",
        "outputId": "c0cc1f22-73c1-42d9-85da-3a8a0ce2dc9b"
      },
      "source": [
        "history_2 = multi_layer_model.fit(train_X, train_Y,\n",
        "                                  epochs = 200, batch_size = 10)"
      ],
      "execution_count": 86,
      "outputs": [
        {
          "output_type": "stream",
          "text": [
            "Epoch 1/200\n",
            "175/175 [==============================] - 1s 2ms/step - loss: 1.0984\n",
            "Epoch 2/200\n",
            "175/175 [==============================] - 0s 2ms/step - loss: 0.9453\n",
            "Epoch 3/200\n",
            "175/175 [==============================] - 0s 2ms/step - loss: 0.8653\n",
            "Epoch 4/200\n",
            "175/175 [==============================] - 0s 2ms/step - loss: 0.8088\n",
            "Epoch 5/200\n",
            "175/175 [==============================] - 0s 2ms/step - loss: 0.7942\n",
            "Epoch 6/200\n",
            "175/175 [==============================] - 0s 2ms/step - loss: 0.7587\n",
            "Epoch 7/200\n",
            "175/175 [==============================] - 0s 1ms/step - loss: 0.7216\n",
            "Epoch 8/200\n",
            "175/175 [==============================] - 0s 2ms/step - loss: 0.7325\n",
            "Epoch 9/200\n",
            "175/175 [==============================] - 0s 1ms/step - loss: 0.7115\n",
            "Epoch 10/200\n",
            "175/175 [==============================] - 0s 2ms/step - loss: 0.7208\n",
            "Epoch 11/200\n",
            "175/175 [==============================] - 0s 2ms/step - loss: 0.7146\n",
            "Epoch 12/200\n",
            "175/175 [==============================] - 0s 1ms/step - loss: 0.6679\n",
            "Epoch 13/200\n",
            "175/175 [==============================] - 0s 2ms/step - loss: 0.6752\n",
            "Epoch 14/200\n",
            "175/175 [==============================] - 0s 1ms/step - loss: 0.6522\n",
            "Epoch 15/200\n",
            "175/175 [==============================] - 0s 2ms/step - loss: 0.6628\n",
            "Epoch 16/200\n",
            "175/175 [==============================] - 0s 1ms/step - loss: 0.6489\n",
            "Epoch 17/200\n",
            "175/175 [==============================] - 0s 2ms/step - loss: 0.6506\n",
            "Epoch 18/200\n",
            "175/175 [==============================] - 0s 2ms/step - loss: 0.6270\n",
            "Epoch 19/200\n",
            "175/175 [==============================] - 0s 2ms/step - loss: 0.6206\n",
            "Epoch 20/200\n",
            "175/175 [==============================] - 0s 2ms/step - loss: 0.5906\n",
            "Epoch 21/200\n",
            "175/175 [==============================] - 0s 2ms/step - loss: 0.6229\n",
            "Epoch 22/200\n",
            "175/175 [==============================] - 0s 2ms/step - loss: 0.6232\n",
            "Epoch 23/200\n",
            "175/175 [==============================] - 0s 2ms/step - loss: 0.6300\n",
            "Epoch 24/200\n",
            "175/175 [==============================] - 0s 2ms/step - loss: 0.6232\n",
            "Epoch 25/200\n",
            "175/175 [==============================] - 0s 2ms/step - loss: 0.5783\n",
            "Epoch 26/200\n",
            "175/175 [==============================] - 0s 2ms/step - loss: 0.5802\n",
            "Epoch 27/200\n",
            "175/175 [==============================] - 0s 1ms/step - loss: 0.5882\n",
            "Epoch 28/200\n",
            "175/175 [==============================] - 0s 2ms/step - loss: 0.5702\n",
            "Epoch 29/200\n",
            "175/175 [==============================] - 0s 1ms/step - loss: 0.5739\n",
            "Epoch 30/200\n",
            "175/175 [==============================] - 0s 1ms/step - loss: 0.5612\n",
            "Epoch 31/200\n",
            "175/175 [==============================] - 0s 2ms/step - loss: 0.5840\n",
            "Epoch 32/200\n",
            "175/175 [==============================] - 0s 2ms/step - loss: 0.5677\n",
            "Epoch 33/200\n",
            "175/175 [==============================] - 0s 2ms/step - loss: 0.5691\n",
            "Epoch 34/200\n",
            "175/175 [==============================] - 0s 1ms/step - loss: 0.5585\n",
            "Epoch 35/200\n",
            "175/175 [==============================] - 0s 1ms/step - loss: 0.5611\n",
            "Epoch 36/200\n",
            "175/175 [==============================] - 0s 2ms/step - loss: 0.5630\n",
            "Epoch 37/200\n",
            "175/175 [==============================] - 0s 1ms/step - loss: 0.5638\n",
            "Epoch 38/200\n",
            "175/175 [==============================] - 0s 1ms/step - loss: 0.5461\n",
            "Epoch 39/200\n",
            "175/175 [==============================] - 0s 2ms/step - loss: 0.5523\n",
            "Epoch 40/200\n",
            "175/175 [==============================] - 0s 1ms/step - loss: 0.5311\n",
            "Epoch 41/200\n",
            "175/175 [==============================] - 0s 2ms/step - loss: 0.5578\n",
            "Epoch 42/200\n",
            "175/175 [==============================] - 0s 2ms/step - loss: 0.4960\n",
            "Epoch 43/200\n",
            "175/175 [==============================] - 0s 2ms/step - loss: 0.5318\n",
            "Epoch 44/200\n",
            "175/175 [==============================] - 0s 2ms/step - loss: 0.5142\n",
            "Epoch 45/200\n",
            "175/175 [==============================] - 0s 1ms/step - loss: 0.5041\n",
            "Epoch 46/200\n",
            "175/175 [==============================] - 0s 2ms/step - loss: 0.5214\n",
            "Epoch 47/200\n",
            "175/175 [==============================] - 0s 2ms/step - loss: 0.5048\n",
            "Epoch 48/200\n",
            "175/175 [==============================] - 0s 1ms/step - loss: 0.5066\n",
            "Epoch 49/200\n",
            "175/175 [==============================] - 0s 2ms/step - loss: 0.4862\n",
            "Epoch 50/200\n",
            "175/175 [==============================] - 0s 2ms/step - loss: 0.4961\n",
            "Epoch 51/200\n",
            "175/175 [==============================] - 0s 2ms/step - loss: 0.4682\n",
            "Epoch 52/200\n",
            "175/175 [==============================] - 0s 2ms/step - loss: 0.4871\n",
            "Epoch 53/200\n",
            "175/175 [==============================] - 0s 2ms/step - loss: 0.4780\n",
            "Epoch 54/200\n",
            "175/175 [==============================] - 0s 2ms/step - loss: 0.5599\n",
            "Epoch 55/200\n",
            "175/175 [==============================] - 0s 2ms/step - loss: 0.5010\n",
            "Epoch 56/200\n",
            "175/175 [==============================] - 0s 1ms/step - loss: 0.4786\n",
            "Epoch 57/200\n",
            "175/175 [==============================] - 0s 2ms/step - loss: 0.4702\n",
            "Epoch 58/200\n",
            "175/175 [==============================] - 0s 1ms/step - loss: 0.4712\n",
            "Epoch 59/200\n",
            "175/175 [==============================] - 0s 1ms/step - loss: 0.5267\n",
            "Epoch 60/200\n",
            "175/175 [==============================] - 0s 1ms/step - loss: 0.4792\n",
            "Epoch 61/200\n",
            "175/175 [==============================] - 0s 2ms/step - loss: 0.4666\n",
            "Epoch 62/200\n",
            "175/175 [==============================] - 0s 2ms/step - loss: 0.4761\n",
            "Epoch 63/200\n",
            "175/175 [==============================] - 0s 2ms/step - loss: 0.4535\n",
            "Epoch 64/200\n",
            "175/175 [==============================] - 0s 1ms/step - loss: 0.4517\n",
            "Epoch 65/200\n",
            "175/175 [==============================] - 0s 1ms/step - loss: 0.4450\n",
            "Epoch 66/200\n",
            "175/175 [==============================] - 0s 1ms/step - loss: 0.4657\n",
            "Epoch 67/200\n",
            "175/175 [==============================] - 0s 2ms/step - loss: 0.4367\n",
            "Epoch 68/200\n",
            "175/175 [==============================] - 0s 2ms/step - loss: 0.4737\n",
            "Epoch 69/200\n",
            "175/175 [==============================] - 0s 2ms/step - loss: 0.4659\n",
            "Epoch 70/200\n",
            "175/175 [==============================] - 0s 1ms/step - loss: 0.4660\n",
            "Epoch 71/200\n",
            "175/175 [==============================] - 0s 2ms/step - loss: 0.4442\n",
            "Epoch 72/200\n",
            "175/175 [==============================] - 0s 1ms/step - loss: 0.4315\n",
            "Epoch 73/200\n",
            "175/175 [==============================] - 0s 2ms/step - loss: 0.4266\n",
            "Epoch 74/200\n",
            "175/175 [==============================] - 0s 1ms/step - loss: 0.4342\n",
            "Epoch 75/200\n",
            "175/175 [==============================] - 0s 2ms/step - loss: 0.4058\n",
            "Epoch 76/200\n",
            "175/175 [==============================] - 0s 2ms/step - loss: 0.4654\n",
            "Epoch 77/200\n",
            "175/175 [==============================] - 0s 2ms/step - loss: 0.4381\n",
            "Epoch 78/200\n",
            "175/175 [==============================] - 0s 2ms/step - loss: 0.4296\n",
            "Epoch 79/200\n",
            "175/175 [==============================] - 0s 1ms/step - loss: 0.3983\n",
            "Epoch 80/200\n",
            "175/175 [==============================] - 0s 2ms/step - loss: 0.4081\n",
            "Epoch 81/200\n",
            "175/175 [==============================] - 0s 2ms/step - loss: 0.4398\n",
            "Epoch 82/200\n",
            "175/175 [==============================] - 0s 2ms/step - loss: 0.4642\n",
            "Epoch 83/200\n",
            "175/175 [==============================] - 0s 2ms/step - loss: 0.4258\n",
            "Epoch 84/200\n",
            "175/175 [==============================] - 0s 2ms/step - loss: 0.4388\n",
            "Epoch 85/200\n",
            "175/175 [==============================] - 0s 1ms/step - loss: 0.4464\n",
            "Epoch 86/200\n",
            "175/175 [==============================] - 0s 2ms/step - loss: 0.4730\n",
            "Epoch 87/200\n",
            "175/175 [==============================] - 0s 1ms/step - loss: 0.4488\n",
            "Epoch 88/200\n",
            "175/175 [==============================] - 0s 2ms/step - loss: 0.4887\n",
            "Epoch 89/200\n",
            "175/175 [==============================] - 0s 1ms/step - loss: 0.4083\n",
            "Epoch 90/200\n",
            "175/175 [==============================] - 0s 2ms/step - loss: 0.3910\n",
            "Epoch 91/200\n",
            "175/175 [==============================] - 0s 2ms/step - loss: 0.4292\n",
            "Epoch 92/200\n",
            "175/175 [==============================] - 0s 1ms/step - loss: 0.4359\n",
            "Epoch 93/200\n",
            "175/175 [==============================] - 0s 2ms/step - loss: 0.4335\n",
            "Epoch 94/200\n",
            "175/175 [==============================] - 0s 2ms/step - loss: 0.3983\n",
            "Epoch 95/200\n",
            "175/175 [==============================] - 0s 2ms/step - loss: 0.3533\n",
            "Epoch 96/200\n",
            "175/175 [==============================] - 0s 2ms/step - loss: 0.4037\n",
            "Epoch 97/200\n",
            "175/175 [==============================] - 0s 2ms/step - loss: 0.3603\n",
            "Epoch 98/200\n",
            "175/175 [==============================] - 0s 2ms/step - loss: 0.4363\n",
            "Epoch 99/200\n",
            "175/175 [==============================] - 0s 2ms/step - loss: 0.3953\n",
            "Epoch 100/200\n",
            "175/175 [==============================] - 0s 2ms/step - loss: 0.3966\n",
            "Epoch 101/200\n",
            "175/175 [==============================] - 0s 1ms/step - loss: 0.4020\n",
            "Epoch 102/200\n",
            "175/175 [==============================] - 0s 2ms/step - loss: 0.3816\n",
            "Epoch 103/200\n",
            "175/175 [==============================] - 0s 1ms/step - loss: 0.4053\n",
            "Epoch 104/200\n",
            "175/175 [==============================] - 0s 1ms/step - loss: 0.3816\n",
            "Epoch 105/200\n",
            "175/175 [==============================] - 0s 2ms/step - loss: 0.3811\n",
            "Epoch 106/200\n",
            "175/175 [==============================] - 0s 2ms/step - loss: 0.4260\n",
            "Epoch 107/200\n",
            "175/175 [==============================] - 0s 2ms/step - loss: 0.4122\n",
            "Epoch 108/200\n",
            "175/175 [==============================] - 0s 1ms/step - loss: 0.3323\n",
            "Epoch 109/200\n",
            "175/175 [==============================] - 0s 2ms/step - loss: 0.3915\n",
            "Epoch 110/200\n",
            "175/175 [==============================] - 0s 1ms/step - loss: 0.3955\n",
            "Epoch 111/200\n",
            "175/175 [==============================] - 0s 1ms/step - loss: 0.4111\n",
            "Epoch 112/200\n",
            "175/175 [==============================] - 0s 2ms/step - loss: 0.3940\n",
            "Epoch 113/200\n",
            "175/175 [==============================] - 0s 2ms/step - loss: 0.4207\n",
            "Epoch 114/200\n",
            "175/175 [==============================] - 0s 2ms/step - loss: 0.3355\n",
            "Epoch 115/200\n",
            "175/175 [==============================] - 0s 2ms/step - loss: 0.3837\n",
            "Epoch 116/200\n",
            "175/175 [==============================] - 0s 2ms/step - loss: 0.3660\n",
            "Epoch 117/200\n",
            "175/175 [==============================] - 0s 2ms/step - loss: 0.3614\n",
            "Epoch 118/200\n",
            "175/175 [==============================] - 0s 1ms/step - loss: 0.3633\n",
            "Epoch 119/200\n",
            "175/175 [==============================] - 0s 2ms/step - loss: 0.3619\n",
            "Epoch 120/200\n",
            "175/175 [==============================] - 0s 2ms/step - loss: 0.3770\n",
            "Epoch 121/200\n",
            "175/175 [==============================] - 0s 1ms/step - loss: 0.3506\n",
            "Epoch 122/200\n",
            "175/175 [==============================] - 0s 2ms/step - loss: 0.4239\n",
            "Epoch 123/200\n",
            "175/175 [==============================] - 0s 2ms/step - loss: 0.4028\n",
            "Epoch 124/200\n",
            "175/175 [==============================] - 0s 2ms/step - loss: 0.3577\n",
            "Epoch 125/200\n",
            "175/175 [==============================] - 0s 2ms/step - loss: 0.3939\n",
            "Epoch 126/200\n",
            "175/175 [==============================] - 0s 2ms/step - loss: 0.3066\n",
            "Epoch 127/200\n",
            "175/175 [==============================] - 0s 1ms/step - loss: 0.3812\n",
            "Epoch 128/200\n",
            "175/175 [==============================] - 0s 2ms/step - loss: 0.3920\n",
            "Epoch 129/200\n",
            "175/175 [==============================] - 0s 1ms/step - loss: 0.3807\n",
            "Epoch 130/200\n",
            "175/175 [==============================] - 0s 1ms/step - loss: 0.3497\n",
            "Epoch 131/200\n",
            "175/175 [==============================] - 0s 1ms/step - loss: 0.3485\n",
            "Epoch 132/200\n",
            "175/175 [==============================] - 0s 2ms/step - loss: 0.3293\n",
            "Epoch 133/200\n",
            "175/175 [==============================] - 0s 2ms/step - loss: 0.3134\n",
            "Epoch 134/200\n",
            "175/175 [==============================] - 0s 2ms/step - loss: 0.3469\n",
            "Epoch 135/200\n",
            "175/175 [==============================] - 0s 2ms/step - loss: 0.3756\n",
            "Epoch 136/200\n",
            "175/175 [==============================] - 0s 1ms/step - loss: 0.4214\n",
            "Epoch 137/200\n",
            "175/175 [==============================] - 0s 2ms/step - loss: 0.3734\n",
            "Epoch 138/200\n",
            "175/175 [==============================] - 0s 2ms/step - loss: 0.3329\n",
            "Epoch 139/200\n",
            "175/175 [==============================] - 0s 2ms/step - loss: 0.3587\n",
            "Epoch 140/200\n",
            "175/175 [==============================] - 0s 2ms/step - loss: 0.3594\n",
            "Epoch 141/200\n",
            "175/175 [==============================] - 0s 2ms/step - loss: 0.3423\n",
            "Epoch 142/200\n",
            "175/175 [==============================] - 0s 2ms/step - loss: 0.3455\n",
            "Epoch 143/200\n",
            "175/175 [==============================] - 0s 2ms/step - loss: 0.3714\n",
            "Epoch 144/200\n",
            "175/175 [==============================] - 0s 1ms/step - loss: 0.2920\n",
            "Epoch 145/200\n",
            "175/175 [==============================] - 0s 2ms/step - loss: 0.3266\n",
            "Epoch 146/200\n",
            "175/175 [==============================] - 0s 2ms/step - loss: 0.4255\n",
            "Epoch 147/200\n",
            "175/175 [==============================] - 0s 2ms/step - loss: 0.3393\n",
            "Epoch 148/200\n",
            "175/175 [==============================] - 0s 2ms/step - loss: 0.3634\n",
            "Epoch 149/200\n",
            "175/175 [==============================] - 0s 2ms/step - loss: 0.3275\n",
            "Epoch 150/200\n",
            "175/175 [==============================] - 0s 2ms/step - loss: 0.3108\n",
            "Epoch 151/200\n",
            "175/175 [==============================] - 0s 1ms/step - loss: 0.3606\n",
            "Epoch 152/200\n",
            "175/175 [==============================] - 0s 1ms/step - loss: 0.3725\n",
            "Epoch 153/200\n",
            "175/175 [==============================] - 0s 2ms/step - loss: 0.3492\n",
            "Epoch 154/200\n",
            "175/175 [==============================] - 0s 2ms/step - loss: 0.3322\n",
            "Epoch 155/200\n",
            "175/175 [==============================] - 0s 2ms/step - loss: 0.3321\n",
            "Epoch 156/200\n",
            "175/175 [==============================] - 0s 2ms/step - loss: 0.3080\n",
            "Epoch 157/200\n",
            "175/175 [==============================] - 0s 2ms/step - loss: 0.3184\n",
            "Epoch 158/200\n",
            "175/175 [==============================] - 0s 2ms/step - loss: 0.3815\n",
            "Epoch 159/200\n",
            "175/175 [==============================] - 0s 2ms/step - loss: 0.3034\n",
            "Epoch 160/200\n",
            "175/175 [==============================] - 0s 2ms/step - loss: 0.3091\n",
            "Epoch 161/200\n",
            "175/175 [==============================] - 0s 2ms/step - loss: 0.3258\n",
            "Epoch 162/200\n",
            "175/175 [==============================] - 0s 2ms/step - loss: 0.3085\n",
            "Epoch 163/200\n",
            "175/175 [==============================] - 0s 2ms/step - loss: 0.3992\n",
            "Epoch 164/200\n",
            "175/175 [==============================] - 0s 2ms/step - loss: 0.3412\n",
            "Epoch 165/200\n",
            "175/175 [==============================] - 0s 1ms/step - loss: 0.2918\n",
            "Epoch 166/200\n",
            "175/175 [==============================] - 0s 2ms/step - loss: 0.3275\n",
            "Epoch 167/200\n",
            "175/175 [==============================] - 0s 2ms/step - loss: 0.3996\n",
            "Epoch 168/200\n",
            "175/175 [==============================] - 0s 2ms/step - loss: 0.3313\n",
            "Epoch 169/200\n",
            "175/175 [==============================] - 0s 2ms/step - loss: 0.3725\n",
            "Epoch 170/200\n",
            "175/175 [==============================] - 0s 1ms/step - loss: 0.3684\n",
            "Epoch 171/200\n",
            "175/175 [==============================] - 0s 2ms/step - loss: 0.3046\n",
            "Epoch 172/200\n",
            "175/175 [==============================] - 0s 2ms/step - loss: 0.2998\n",
            "Epoch 173/200\n",
            "175/175 [==============================] - 0s 2ms/step - loss: 0.3357\n",
            "Epoch 174/200\n",
            "175/175 [==============================] - 0s 1ms/step - loss: 0.3135\n",
            "Epoch 175/200\n",
            "175/175 [==============================] - 0s 2ms/step - loss: 0.3097\n",
            "Epoch 176/200\n",
            "175/175 [==============================] - 0s 2ms/step - loss: 0.3202\n",
            "Epoch 177/200\n",
            "175/175 [==============================] - 0s 2ms/step - loss: 0.3111\n",
            "Epoch 178/200\n",
            "175/175 [==============================] - 0s 2ms/step - loss: 0.3597\n",
            "Epoch 179/200\n",
            "175/175 [==============================] - 0s 2ms/step - loss: 0.3808\n",
            "Epoch 180/200\n",
            "175/175 [==============================] - 0s 2ms/step - loss: 0.3454\n",
            "Epoch 181/200\n",
            "175/175 [==============================] - 0s 2ms/step - loss: 0.3654\n",
            "Epoch 182/200\n",
            "175/175 [==============================] - 0s 2ms/step - loss: 0.3320\n",
            "Epoch 183/200\n",
            "175/175 [==============================] - 0s 2ms/step - loss: 0.3493\n",
            "Epoch 184/200\n",
            "175/175 [==============================] - 0s 2ms/step - loss: 0.2914\n",
            "Epoch 185/200\n",
            "175/175 [==============================] - 0s 2ms/step - loss: 0.4699\n",
            "Epoch 186/200\n",
            "175/175 [==============================] - 0s 2ms/step - loss: 0.3350\n",
            "Epoch 187/200\n",
            "175/175 [==============================] - 0s 2ms/step - loss: 0.3451\n",
            "Epoch 188/200\n",
            "175/175 [==============================] - 0s 2ms/step - loss: 0.3289\n",
            "Epoch 189/200\n",
            "175/175 [==============================] - 0s 2ms/step - loss: 0.2582\n",
            "Epoch 190/200\n",
            "175/175 [==============================] - 0s 2ms/step - loss: 0.2812\n",
            "Epoch 191/200\n",
            "175/175 [==============================] - 0s 2ms/step - loss: 0.3089\n",
            "Epoch 192/200\n",
            "175/175 [==============================] - 0s 2ms/step - loss: 0.3279\n",
            "Epoch 193/200\n",
            "175/175 [==============================] - 0s 2ms/step - loss: 0.3591\n",
            "Epoch 194/200\n",
            "175/175 [==============================] - 0s 2ms/step - loss: 0.3831\n",
            "Epoch 195/200\n",
            "175/175 [==============================] - 0s 2ms/step - loss: 0.2900\n",
            "Epoch 196/200\n",
            "175/175 [==============================] - 0s 2ms/step - loss: 0.3048\n",
            "Epoch 197/200\n",
            "175/175 [==============================] - 0s 2ms/step - loss: 0.3804\n",
            "Epoch 198/200\n",
            "175/175 [==============================] - 0s 2ms/step - loss: 0.3100\n",
            "Epoch 199/200\n",
            "175/175 [==============================] - 0s 2ms/step - loss: 0.2795\n",
            "Epoch 200/200\n",
            "175/175 [==============================] - 0s 2ms/step - loss: 0.2873\n"
          ],
          "name": "stdout"
        }
      ]
    },
    {
      "cell_type": "code",
      "metadata": {
        "colab": {
          "base_uri": "https://localhost:8080/"
        },
        "id": "-ofRgFBr_AYR",
        "outputId": "b83c4335-db67-4f96-df12-2dec1f3dcb72"
      },
      "source": [
        "multi_layer_model.evaluate(test_X, test_Y)"
      ],
      "execution_count": 87,
      "outputs": [
        {
          "output_type": "stream",
          "text": [
            "7/7 [==============================] - 0s 2ms/step - loss: 2.1212\n"
          ],
          "name": "stdout"
        },
        {
          "output_type": "execute_result",
          "data": {
            "text/plain": [
              "2.12119460105896"
            ]
          },
          "metadata": {
            "tags": []
          },
          "execution_count": 87
        }
      ]
    },
    {
      "cell_type": "code",
      "metadata": {
        "colab": {
          "base_uri": "https://localhost:8080/"
        },
        "id": "_PvIQBOb_OiQ",
        "outputId": "98849629-9cdd-4f75-860b-8f9a150bba19"
      },
      "source": [
        "test_X.shape"
      ],
      "execution_count": 88,
      "outputs": [
        {
          "output_type": "execute_result",
          "data": {
            "text/plain": [
              "(195, 27)"
            ]
          },
          "metadata": {
            "tags": []
          },
          "execution_count": 88
        }
      ]
    },
    {
      "cell_type": "code",
      "metadata": {
        "id": "urGng89y_RSs"
      },
      "source": [
        "import matplotlib.pyplot as plt\n"
      ],
      "execution_count": 89,
      "outputs": []
    },
    {
      "cell_type": "code",
      "metadata": {
        "colab": {
          "base_uri": "https://localhost:8080/",
          "height": 279
        },
        "id": "ydqo1jJJ_Ymp",
        "outputId": "e30ac3b1-2a9f-4ed2-f606-2e3ebface888"
      },
      "source": [
        "plt.figure(figsize=(20,4))\n",
        "plt.plot(history_2.history['loss'],'b--o',label='loss')\n",
        "plt.xlabel('Epochs')\n",
        "plt.ylabel('Loss')\n",
        "plt.legend()\n",
        "plt.grid()\n",
        "\n",
        "plt.show()"
      ],
      "execution_count": 90,
      "outputs": [
        {
          "output_type": "display_data",
          "data": {
            "image/png": "[encoded data removed]",
            "text/plain": [
              "<Figure size 1440x288 with 1 Axes>"
            ]
          },
          "metadata": {
            "tags": [],
            "needs_background": "light"
          }
        }
      ]
    },
    {
      "cell_type": "code",
      "metadata": {
        "colab": {
          "base_uri": "https://localhost:8080/"
        },
        "id": "ixzg6-nC_ydY",
        "outputId": "969528ef-0047-4f86-ab43-2725a1728a0b"
      },
      "source": [
        "pred_Y = multi_layer_model.predict(test_X)\n",
        "print(pred_Y)\n"
      ],
      "execution_count": 91,
      "outputs": [
        {
          "output_type": "stream",
          "text": [
            "[[3.00327798e-08 4.15591103e-06 9.92906371e-06 ... 1.89736976e-11\n",
            "  7.97661096e-02 9.20219243e-01]\n",
            " [1.18306525e-04 1.13747669e-08 5.49129072e-05 ... 3.85151999e-09\n",
            "  8.16348910e-01 1.83400452e-01]\n",
            " [9.19151306e-03 2.09923510e-05 2.82570109e-04 ... 1.69224665e-03\n",
            "  1.39483139e-01 8.45932126e-01]\n",
            " ...\n",
            " [9.52477603e-06 1.69521463e-05 8.94190371e-01 ... 1.35532183e-13\n",
            "  2.41215384e-05 1.05759166e-01]\n",
            " [3.21423022e-09 2.88667111e-11 5.44460166e-09 ... 1.25529876e-13\n",
            "  9.99612391e-01 3.49234353e-04]\n",
            " [5.39934379e-04 4.88570833e-04 1.42953388e-04 ... 9.53742187e-08\n",
            "  5.66636205e-01 4.24483418e-01]]\n"
          ],
          "name": "stdout"
        }
      ]
    },
    {
      "cell_type": "code",
      "metadata": {
        "colab": {
          "base_uri": "https://localhost:8080/"
        },
        "id": "pINcxUjLAPYr",
        "outputId": "b559e357-6f39-4d8e-98df-8d80d9e012d1"
      },
      "source": [
        "pred_Y = np.argmax(pred_Y,axis=1)\n",
        "print(pred_Y)"
      ],
      "execution_count": 92,
      "outputs": [
        {
          "output_type": "stream",
          "text": [
            "[6 5 6 6 6 6 6 4 1 1 1 6 6 2 1 2 5 0 6 6 5 0 2 1 2 6 5 5 2 5 2 6 5 6 6 2 6\n",
            " 6 6 6 2 4 6 4 6 2 2 6 6 6 5 2 6 2 1 6 0 5 1 5 0 5 4 6 2 5 6 2 5 6 6 6 6 3\n",
            " 1 6 5 6 5 6 0 5 3 6 5 5 0 1 2 6 4 5 6 6 6 1 6 0 1 0 6 5 6 3 6 6 2 6 0 6 6\n",
            " 5 6 4 5 2 2 2 6 2 2 6 6 6 6 2 3 6 6 2 0 6 5 0 1 6 2 5 0 2 6 2 6 6 6 1 4 6\n",
            " 6 2 5 5 6 3 1 1 5 5 6 5 6 3 3 1 6 6 6 2 4 5 6 5 0 6 6 5 2 5 6 6 5 6 3 5 6\n",
            " 6 5 5 6 6 6 6 2 5 5]\n"
          ],
          "name": "stdout"
        }
      ]
    },
    {
      "cell_type": "code",
      "metadata": {
        "colab": {
          "base_uri": "https://localhost:8080/"
        },
        "id": "9-GniTNmAnBw",
        "outputId": "e469e84e-9869-427a-a31c-ee029b9f0b49"
      },
      "source": [
        "test_Y = np.argmax(test_Y,axis=1)\n",
        "print(test_Y)"
      ],
      "execution_count": 93,
      "outputs": [
        {
          "output_type": "stream",
          "text": [
            "[6 5 6 6 5 6 6 4 1 1 1 5 6 2 1 2 5 6 6 6 6 0 2 1 2 5 5 5 2 0 2 6 5 5 2 2 6\n",
            " 5 5 6 2 4 6 4 6 2 2 6 6 5 5 2 6 2 6 6 0 5 1 6 0 5 4 6 2 6 6 2 6 6 0 5 6 3\n",
            " 1 5 1 5 4 5 6 5 3 6 6 5 0 1 2 6 4 1 6 6 6 6 0 0 1 0 6 5 0 3 6 6 2 6 0 0 5\n",
            " 5 6 4 6 2 2 2 6 2 2 5 6 6 6 2 3 0 5 2 6 6 5 0 6 5 2 6 6 2 6 2 6 5 6 1 4 6\n",
            " 6 2 5 5 6 3 1 1 6 5 6 6 5 3 3 1 5 6 0 2 4 5 6 5 0 0 6 6 2 5 6 6 5 6 6 6 6\n",
            " 6 6 5 6 6 5 5 2 5 5]\n"
          ],
          "name": "stdout"
        }
      ]
    },
    {
      "cell_type": "code",
      "metadata": {
        "colab": {
          "base_uri": "https://localhost:8080/"
        },
        "id": "beTvlvo9At34",
        "outputId": "b6c26dc9-8adf-4beb-d964-43239295e74a"
      },
      "source": [
        "np.equal(pred_Y, test_Y)"
      ],
      "execution_count": 94,
      "outputs": [
        {
          "output_type": "execute_result",
          "data": {
            "text/plain": [
              "array([ True,  True,  True,  True, False,  True,  True,  True,  True,\n",
              "        True,  True, False,  True,  True,  True,  True,  True, False,\n",
              "        True,  True, False,  True,  True,  True,  True, False,  True,\n",
              "        True,  True, False,  True,  True,  True, False, False,  True,\n",
              "        True, False, False,  True,  True,  True,  True,  True,  True,\n",
              "        True,  True,  True,  True, False,  True,  True,  True,  True,\n",
              "       False,  True,  True,  True,  True, False,  True,  True,  True,\n",
              "        True,  True, False,  True,  True, False,  True, False, False,\n",
              "        True,  True,  True, False, False, False, False, False, False,\n",
              "        True,  True,  True, False,  True,  True,  True,  True,  True,\n",
              "        True, False,  True,  True,  True, False, False,  True,  True,\n",
              "        True,  True,  True, False,  True,  True,  True,  True,  True,\n",
              "        True, False, False,  True,  True,  True, False,  True,  True,\n",
              "        True,  True,  True,  True, False,  True,  True,  True,  True,\n",
              "        True, False, False,  True, False,  True,  True,  True, False,\n",
              "       False,  True, False, False,  True,  True,  True,  True, False,\n",
              "        True,  True,  True,  True,  True,  True,  True,  True,  True,\n",
              "        True,  True,  True, False,  True,  True, False, False,  True,\n",
              "        True,  True, False,  True, False,  True,  True,  True,  True,\n",
              "        True,  True, False,  True, False,  True,  True,  True,  True,\n",
              "        True,  True, False, False,  True,  True, False,  True,  True,\n",
              "        True, False, False,  True,  True,  True])"
            ]
          },
          "metadata": {
            "tags": []
          },
          "execution_count": 94
        }
      ]
    },
    {
      "cell_type": "code",
      "metadata": {
        "colab": {
          "base_uri": "https://localhost:8080/"
        },
        "id": "HNP76WDjA7kU",
        "outputId": "8599f862-06f5-4195-f0b6-3f0ea6ac55eb"
      },
      "source": [
        " acc = np.mean(np.equal(pred_Y, test_Y))\n",
        " print(\"정확도 ACC : {} % \".format(np.round(acc*100,3)))"
      ],
      "execution_count": 95,
      "outputs": [
        {
          "output_type": "stream",
          "text": [
            "정확도 ACC : 73.333 % \n"
          ],
          "name": "stdout"
        }
      ]
    },
    {
      "cell_type": "code",
      "metadata": {
        "id": "6CyBg4ZfILJs"
      },
      "source": [
        ""
      ],
      "execution_count": 95,
      "outputs": []
    }
  ]
}