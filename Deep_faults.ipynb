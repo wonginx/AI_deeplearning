{
  "nbformat": 4,
  "nbformat_minor": 0,
  "metadata": {
    "colab": {
      "name": "Deep_faults.ipynb",
      "provenance": [],
      "mount_file_id": "1Y3JZgDIluSV_Xfo1wnOkwbnKhXXq0rhz",
      "authorship_tag": "ABX9TyMQ6kgbKvoeKDi3jUuaHtfF",
      "include_colab_link": true
    },
    "kernelspec": {
      "name": "python3",
      "display_name": "Python 3"
    },
    "language_info": {
      "name": "python"
    }
  },
  "cells": [
    {
      "cell_type": "markdown",
      "metadata": {
        "id": "view-in-github",
        "colab_type": "text"
      },
      "source": [
        "<a href=\"https://colab.research.google.com/github/wozzin/AI_deeplearning/blob/main/Deep_faults.ipynb\" target=\"_parent\"><img src=\"https://colab.research.google.com/assets/colab-badge.svg\" alt=\"Open In Colab\"/></a>"
      ]
    },
    {
      "cell_type": "code",
      "metadata": {
        "id": "uY5IalDkdCBV"
      },
      "source": [
        "import tensorflow as tf\n",
        "import numpy as np\n",
        "import pandas as pd\n",
        "import matplotlib.pyplot as plt\n",
        "import seaborn as sns"
      ],
      "execution_count": null,
      "outputs": []
    },
    {
      "cell_type": "code",
      "metadata": {
        "id": "R8FRPbdijpxb"
      },
      "source": [
        "faults = pd.read_csv('/content/drive/MyDrive/Deep/faults_mini.csv')"
      ],
      "execution_count": null,
      "outputs": []
    },
    {
      "cell_type": "code",
      "metadata": {
        "colab": {
          "base_uri": "https://localhost:8080/",
          "height": 379
        },
        "id": "0aXoeGPukBi_",
        "outputId": "6069eb1c-69a9-4a2f-f4fe-22b033c49a8a"
      },
      "source": [
        "faults"
      ],
      "execution_count": null,
      "outputs": [
        {
          "output_type": "execute_result",
          "data": {
            "text/html": [
              "<div>\n",
              "<style scoped>\n",
              "    .dataframe tbody tr th:only-of-type {\n",
              "        vertical-align: middle;\n",
              "    }\n",
              "\n",
              "    .dataframe tbody tr th {\n",
              "        vertical-align: top;\n",
              "    }\n",
              "\n",
              "    .dataframe thead th {\n",
              "        text-align: right;\n",
              "    }\n",
              "</style>\n",
              "<table border=\"1\" class=\"dataframe\">\n",
              "  <thead>\n",
              "    <tr style=\"text-align: right;\">\n",
              "      <th></th>\n",
              "      <th>X_Minimum</th>\n",
              "      <th>Y_Minimum</th>\n",
              "      <th>Pixels_Areas</th>\n",
              "      <th>Steel_Plate_Thickness</th>\n",
              "      <th>Pastry</th>\n",
              "      <th>Z_Scratch</th>\n",
              "      <th>K_Scatch</th>\n",
              "    </tr>\n",
              "  </thead>\n",
              "  <tbody>\n",
              "    <tr>\n",
              "      <th>0</th>\n",
              "      <td>42</td>\n",
              "      <td>270900</td>\n",
              "      <td>267</td>\n",
              "      <td>80</td>\n",
              "      <td>1</td>\n",
              "      <td>0</td>\n",
              "      <td>0</td>\n",
              "    </tr>\n",
              "    <tr>\n",
              "      <th>1</th>\n",
              "      <td>1084</td>\n",
              "      <td>185575</td>\n",
              "      <td>108</td>\n",
              "      <td>40</td>\n",
              "      <td>0</td>\n",
              "      <td>0</td>\n",
              "      <td>1</td>\n",
              "    </tr>\n",
              "    <tr>\n",
              "      <th>2</th>\n",
              "      <td>1109</td>\n",
              "      <td>1170194</td>\n",
              "      <td>130</td>\n",
              "      <td>175</td>\n",
              "      <td>0</td>\n",
              "      <td>1</td>\n",
              "      <td>0</td>\n",
              "    </tr>\n",
              "    <tr>\n",
              "      <th>3</th>\n",
              "      <td>190</td>\n",
              "      <td>210936</td>\n",
              "      <td>132</td>\n",
              "      <td>150</td>\n",
              "      <td>1</td>\n",
              "      <td>0</td>\n",
              "      <td>0</td>\n",
              "    </tr>\n",
              "    <tr>\n",
              "      <th>4</th>\n",
              "      <td>330</td>\n",
              "      <td>429227</td>\n",
              "      <td>264</td>\n",
              "      <td>150</td>\n",
              "      <td>1</td>\n",
              "      <td>0</td>\n",
              "      <td>0</td>\n",
              "    </tr>\n",
              "    <tr>\n",
              "      <th>5</th>\n",
              "      <td>74</td>\n",
              "      <td>779144</td>\n",
              "      <td>1506</td>\n",
              "      <td>150</td>\n",
              "      <td>1</td>\n",
              "      <td>0</td>\n",
              "      <td>0</td>\n",
              "    </tr>\n",
              "    <tr>\n",
              "      <th>6</th>\n",
              "      <td>51</td>\n",
              "      <td>585861</td>\n",
              "      <td>139</td>\n",
              "      <td>70</td>\n",
              "      <td>0</td>\n",
              "      <td>1</td>\n",
              "      <td>0</td>\n",
              "    </tr>\n",
              "    <tr>\n",
              "      <th>7</th>\n",
              "      <td>397</td>\n",
              "      <td>604478</td>\n",
              "      <td>444</td>\n",
              "      <td>70</td>\n",
              "      <td>0</td>\n",
              "      <td>1</td>\n",
              "      <td>0</td>\n",
              "    </tr>\n",
              "    <tr>\n",
              "      <th>8</th>\n",
              "      <td>43</td>\n",
              "      <td>366881</td>\n",
              "      <td>4048</td>\n",
              "      <td>40</td>\n",
              "      <td>0</td>\n",
              "      <td>0</td>\n",
              "      <td>1</td>\n",
              "    </tr>\n",
              "    <tr>\n",
              "      <th>9</th>\n",
              "      <td>48</td>\n",
              "      <td>377537</td>\n",
              "      <td>3985</td>\n",
              "      <td>40</td>\n",
              "      <td>0</td>\n",
              "      <td>0</td>\n",
              "      <td>1</td>\n",
              "    </tr>\n",
              "  </tbody>\n",
              "</table>\n",
              "</div>"
            ],
            "text/plain": [
              "   X_Minimum  Y_Minimum  Pixels_Areas  ...  Pastry  Z_Scratch  K_Scatch\n",
              "0         42     270900           267  ...       1          0         0\n",
              "1       1084     185575           108  ...       0          0         1\n",
              "2       1109    1170194           130  ...       0          1         0\n",
              "3        190     210936           132  ...       1          0         0\n",
              "4        330     429227           264  ...       1          0         0\n",
              "5         74     779144          1506  ...       1          0         0\n",
              "6         51     585861           139  ...       0          1         0\n",
              "7        397     604478           444  ...       0          1         0\n",
              "8         43     366881          4048  ...       0          0         1\n",
              "9         48     377537          3985  ...       0          0         1\n",
              "\n",
              "[10 rows x 7 columns]"
            ]
          },
          "metadata": {
            "tags": []
          },
          "execution_count": 29
        }
      ]
    },
    {
      "cell_type": "code",
      "metadata": {
        "colab": {
          "base_uri": "https://localhost:8080/"
        },
        "id": "pnTZg9DTs9KW",
        "outputId": "892f0e8e-fce6-4b64-cae5-1528e5e54c8b"
      },
      "source": [
        "var_x = np.random.randint(0,7,size = 99)\n",
        "var_x_outlier = [100]\n",
        "\n",
        "var_x = np.hstack([var_x, var_x_outlier])\n",
        "\n",
        "var_y = np.random.randint(0,40, size = 100)\n",
        "\n",
        "print(\"var_x \\n\", var_x)\n",
        "print(\"var_y \\n\", var_y)"
      ],
      "execution_count": null,
      "outputs": [
        {
          "output_type": "stream",
          "text": [
            "var_x \n",
            " [  5   5   2   0   5   5   0   1   3   6   3   5   2   1   4   3   3   4\n",
            "   5   3   2   1   4   1   4   5   1   4   1   2   1   0   5   1   3   0\n",
            "   5   0   3   3   1   1   5   0   4   4   3   2   2   4   0   4   2   4\n",
            "   4   2   1   4   1   6   6   4   1   5   4   5   4   2   5   0   4   4\n",
            "   3   2   4   3   2   1   2   1   6   0   5   2   5   0   2   6   1   2\n",
            "   1   1   6   3   3   3   2   0   0 100]\n",
            "var_y \n",
            " [13 21  4 36 36 35 37 34 19 19 16 16 14 38  2 27 36 26 37 27 25 30 17 33\n",
            " 18 25 11 39  9 15 21  8 18 32 38 23  9  0  9  4 27 34 22 20 20 20  1 39\n",
            " 39  3 31 25 13 23 25  9 36  8 16 31 32  4 36  2 23 21  8 13 20 10 25 28\n",
            " 38  3 34 27  2 30 20  0 25  2 25 31 29 11 15 31  5 28 39 21 36 10 25 24\n",
            " 12 34 35 16]\n"
          ],
          "name": "stdout"
        }
      ]
    },
    {
      "cell_type": "code",
      "metadata": {
        "colab": {
          "base_uri": "https://localhost:8080/"
        },
        "id": "-yae-j6os4_6",
        "outputId": "16a79fb7-68d5-4ebe-da15-f7d13b6633f1"
      },
      "source": [
        "var_x_norm = (var_x - var_x.min()) / (var_x.max() - var_x.min())\n",
        "var_y_norm = (var_y - var_y.min()) / (var_y.max() - var_y.min()) \n",
        "print(\"var_x_norm : \\n\", var_x_norm[:10])\n",
        "print(\"var_y_norm : \\n\", var_y_norm[:10])"
      ],
      "execution_count": null,
      "outputs": [
        {
          "output_type": "stream",
          "text": [
            "var_x_norm : \n",
            " [0.05 0.05 0.02 0.   0.05 0.05 0.   0.01 0.03 0.06]\n",
            "var_y_norm : \n",
            " [0.33333333 0.53846154 0.1025641  0.92307692 0.92307692 0.8974359\n",
            " 0.94871795 0.87179487 0.48717949 0.48717949]\n"
          ],
          "name": "stdout"
        }
      ]
    },
    {
      "cell_type": "code",
      "metadata": {
        "colab": {
          "base_uri": "https://localhost:8080/",
          "height": 163
        },
        "id": "BpReYQkOlpuO",
        "outputId": "9764abb5-8aa6-410c-d9d2-1f6a3e70dd43"
      },
      "source": [
        "import warnings\n",
        "warnings.filterwarnings('ignore')\n",
        "\n",
        "plt.figure(figsize=(15,3))\n",
        "\n",
        "plt.subplot(1,5,1)\n",
        "\n",
        "sns.scatterplot(var_x, var_y, color = 'red')\n",
        "plt.title(\"Before Min - Max Normalization\")\n",
        "plt.grid()\n",
        "\n",
        "plt.subplot(1,5,3)\n",
        "\n",
        "sns.scatterplot(var_x_norm, var_y_norm, color = 'orange')\n",
        "plt.title(\"After Min - Max Normalization\")\n",
        "plt.grid()\n",
        "\n",
        "var_x = np.random.randint(0,7, size = 100)\n",
        "var_y = np.random.randint(0,40,size = 100)\n",
        "\n",
        "var_x_norm = (var_x - var_x.min()) / (var_x.max() - var_x.min())\n",
        "var_y_norm = (var_y - var_y.min()) / (var_y.max() - var_y.min()) \n",
        "\n",
        "plt.subplot(1,5,5)\n",
        "sns.scatterplot(var_x_norm,var_y_norm, color = 'green')\n",
        "plt.title(\"No outlier Min-Max Normalization\")\n",
        "plt.grid()\n",
        "\n",
        "plt.show()"
      ],
      "execution_count": null,
      "outputs": [
        {
          "output_type": "display_data",
          "data": {
            "image/png": "[encoded data removed]",
            "text/plain": [
              "<Figure size 1080x216 with 3 Axes>"
            ]
          },
          "metadata": {
            "tags": [],
            "needs_background": "light"
          }
        }
      ]
    },
    {
      "cell_type": "code",
      "metadata": {
        "colab": {
          "base_uri": "https://localhost:8080/",
          "height": 317
        },
        "id": "XgyqwpsbsyMx",
        "outputId": "aadde6d0-aa5f-4809-bbe6-d4d6ba9f1401"
      },
      "source": [
        "faults_norm = (faults - faults.min()) / (faults.max() - faults.min())\n",
        "display(faults_norm.describe())"
      ],
      "execution_count": null,
      "outputs": [
        {
          "output_type": "display_data",
          "data": {
            "text/html": [
              "<div>\n",
              "<style scoped>\n",
              "    .dataframe tbody tr th:only-of-type {\n",
              "        vertical-align: middle;\n",
              "    }\n",
              "\n",
              "    .dataframe tbody tr th {\n",
              "        vertical-align: top;\n",
              "    }\n",
              "\n",
              "    .dataframe thead th {\n",
              "        text-align: right;\n",
              "    }\n",
              "</style>\n",
              "<table border=\"1\" class=\"dataframe\">\n",
              "  <thead>\n",
              "    <tr style=\"text-align: right;\">\n",
              "      <th></th>\n",
              "      <th>X_Minimum</th>\n",
              "      <th>Y_Minimum</th>\n",
              "      <th>Pixels_Areas</th>\n",
              "      <th>Steel_Plate_Thickness</th>\n",
              "      <th>Pastry</th>\n",
              "      <th>Z_Scratch</th>\n",
              "      <th>K_Scatch</th>\n",
              "    </tr>\n",
              "  </thead>\n",
              "  <tbody>\n",
              "    <tr>\n",
              "      <th>count</th>\n",
              "      <td>10.000000</td>\n",
              "      <td>10.000000</td>\n",
              "      <td>10.000000</td>\n",
              "      <td>10.000000</td>\n",
              "      <td>10.000000</td>\n",
              "      <td>10.000000</td>\n",
              "      <td>10.000000</td>\n",
              "    </tr>\n",
              "    <tr>\n",
              "      <th>mean</th>\n",
              "      <td>0.276289</td>\n",
              "      <td>0.317380</td>\n",
              "      <td>0.252360</td>\n",
              "      <td>0.418519</td>\n",
              "      <td>0.400000</td>\n",
              "      <td>0.300000</td>\n",
              "      <td>0.300000</td>\n",
              "    </tr>\n",
              "    <tr>\n",
              "      <th>std</th>\n",
              "      <td>0.393577</td>\n",
              "      <td>0.306181</td>\n",
              "      <td>0.403859</td>\n",
              "      <td>0.398155</td>\n",
              "      <td>0.516398</td>\n",
              "      <td>0.483046</td>\n",
              "      <td>0.483046</td>\n",
              "    </tr>\n",
              "    <tr>\n",
              "      <th>min</th>\n",
              "      <td>0.000000</td>\n",
              "      <td>0.000000</td>\n",
              "      <td>0.000000</td>\n",
              "      <td>0.000000</td>\n",
              "      <td>0.000000</td>\n",
              "      <td>0.000000</td>\n",
              "      <td>0.000000</td>\n",
              "    </tr>\n",
              "    <tr>\n",
              "      <th>25%</th>\n",
              "      <td>0.006326</td>\n",
              "      <td>0.111028</td>\n",
              "      <td>0.006536</td>\n",
              "      <td>0.055556</td>\n",
              "      <td>0.000000</td>\n",
              "      <td>0.000000</td>\n",
              "      <td>0.000000</td>\n",
              "    </tr>\n",
              "    <tr>\n",
              "      <th>50%</th>\n",
              "      <td>0.084349</td>\n",
              "      <td>0.221209</td>\n",
              "      <td>0.039975</td>\n",
              "      <td>0.259259</td>\n",
              "      <td>0.000000</td>\n",
              "      <td>0.000000</td>\n",
              "      <td>0.000000</td>\n",
              "    </tr>\n",
              "    <tr>\n",
              "      <th>75%</th>\n",
              "      <td>0.317010</td>\n",
              "      <td>0.420720</td>\n",
              "      <td>0.287437</td>\n",
              "      <td>0.814815</td>\n",
              "      <td>1.000000</td>\n",
              "      <td>0.750000</td>\n",
              "      <td>0.750000</td>\n",
              "    </tr>\n",
              "    <tr>\n",
              "      <th>max</th>\n",
              "      <td>1.000000</td>\n",
              "      <td>1.000000</td>\n",
              "      <td>1.000000</td>\n",
              "      <td>1.000000</td>\n",
              "      <td>1.000000</td>\n",
              "      <td>1.000000</td>\n",
              "      <td>1.000000</td>\n",
              "    </tr>\n",
              "  </tbody>\n",
              "</table>\n",
              "</div>"
            ],
            "text/plain": [
              "       X_Minimum  Y_Minimum  Pixels_Areas  ...     Pastry  Z_Scratch   K_Scatch\n",
              "count  10.000000  10.000000     10.000000  ...  10.000000  10.000000  10.000000\n",
              "mean    0.276289   0.317380      0.252360  ...   0.400000   0.300000   0.300000\n",
              "std     0.393577   0.306181      0.403859  ...   0.516398   0.483046   0.483046\n",
              "min     0.000000   0.000000      0.000000  ...   0.000000   0.000000   0.000000\n",
              "25%     0.006326   0.111028      0.006536  ...   0.000000   0.000000   0.000000\n",
              "50%     0.084349   0.221209      0.039975  ...   0.000000   0.000000   0.000000\n",
              "75%     0.317010   0.420720      0.287437  ...   1.000000   0.750000   0.750000\n",
              "max     1.000000   1.000000      1.000000  ...   1.000000   1.000000   1.000000\n",
              "\n",
              "[8 rows x 7 columns]"
            ]
          },
          "metadata": {
            "tags": []
          }
        }
      ]
    },
    {
      "cell_type": "code",
      "metadata": {
        "colab": {
          "base_uri": "https://localhost:8080/"
        },
        "id": "6aEZnvGVtCV0",
        "outputId": "13fd73c8-404f-43f3-944e-a9831ebde1a1"
      },
      "source": [
        "print(faults_norm[:5])\n",
        "faults_shuffle = faults_norm.sample(frac=1)\n",
        "print(faults_shuffle[:5])"
      ],
      "execution_count": null,
      "outputs": [
        {
          "output_type": "stream",
          "text": [
            "   X_Minimum  Y_Minimum  Pixels_Areas  ...  Pastry  Z_Scratch  K_Scatch\n",
            "0   0.000000   0.086658      0.040355  ...     1.0        0.0       0.0\n",
            "1   0.976570   0.000000      0.000000  ...     0.0        0.0       1.0\n",
            "2   1.000000   1.000000      0.005584  ...     0.0        1.0       0.0\n",
            "3   0.138707   0.025757      0.006091  ...     1.0        0.0       0.0\n",
            "4   0.269916   0.247458      0.039594  ...     1.0        0.0       0.0\n",
            "\n",
            "[5 rows x 7 columns]\n",
            "   X_Minimum  Y_Minimum  Pixels_Areas  ...  Pastry  Z_Scratch  K_Scatch\n",
            "0   0.000000   0.086658      0.040355  ...     1.0        0.0       0.0\n",
            "3   0.138707   0.025757      0.006091  ...     1.0        0.0       0.0\n",
            "4   0.269916   0.247458      0.039594  ...     1.0        0.0       0.0\n",
            "9   0.005623   0.194961      0.984010  ...     0.0        0.0       1.0\n",
            "2   1.000000   1.000000      0.005584  ...     0.0        1.0       0.0\n",
            "\n",
            "[5 rows x 7 columns]\n"
          ],
          "name": "stdout"
        }
      ]
    },
    {
      "cell_type": "code",
      "metadata": {
        "colab": {
          "base_uri": "https://localhost:8080/"
        },
        "id": "YbmY_xO9txc1",
        "outputId": "d53102aa-b93a-4845-d45b-87d12f805f46"
      },
      "source": [
        "faults_np = faults_shuffle.to_numpy()\n",
        "print(type(faults_np))"
      ],
      "execution_count": null,
      "outputs": [
        {
          "output_type": "stream",
          "text": [
            "<class 'numpy.ndarray'>\n"
          ],
          "name": "stdout"
        }
      ]
    },
    {
      "cell_type": "code",
      "metadata": {
        "colab": {
          "base_uri": "https://localhost:8080/"
        },
        "id": "Da2y7cLst_xD",
        "outputId": "971fdd9e-7cc5-4a31-b871-fdaa326e8cab"
      },
      "source": [
        "train_ratio = 0.8\n",
        "input_cnt = 4 # 독립변수\n",
        "output_cnt = 3 # 종속변수\n",
        "\n",
        "train_idx = int(len(faults_np)* train_ratio)\n",
        "print(train_idx)"
      ],
      "execution_count": null,
      "outputs": [
        {
          "output_type": "stream",
          "text": [
            "8\n"
          ],
          "name": "stdout"
        }
      ]
    },
    {
      "cell_type": "code",
      "metadata": {
        "id": "8alPjFAIuapT"
      },
      "source": [
        "train_X, train_Y = faults_np[:train_idx, :-output_cnt], faults_np[:train_idx, -output_cnt:]"
      ],
      "execution_count": null,
      "outputs": []
    },
    {
      "cell_type": "code",
      "metadata": {
        "id": "m6wWzfsqu8ZW"
      },
      "source": [
        "test_X, test_Y = faults_np[train_idx :,: -output_cnt], faults_np[train_idx:,-output_cnt:]"
      ],
      "execution_count": null,
      "outputs": []
    },
    {
      "cell_type": "code",
      "metadata": {
        "colab": {
          "base_uri": "https://localhost:8080/"
        },
        "id": "pLg3yFX_vN7e",
        "outputId": "0f450242-491e-4363-c0a1-324bf036465d"
      },
      "source": [
        "print(train_Y.shape)\n",
        "print(test_Y.shape)"
      ],
      "execution_count": null,
      "outputs": [
        {
          "output_type": "stream",
          "text": [
            "(8, 3)\n",
            "(2, 3)\n"
          ],
          "name": "stdout"
        }
      ]
    },
    {
      "cell_type": "code",
      "metadata": {
        "id": "KXc5MLZEvUKj"
      },
      "source": [
        "simple_layer_model = tf.keras.Sequential([\n",
        "                                          tf.keras.layers.Dense(units=3, \n",
        "                                                                activation = 'softmax',\n",
        "                                                                input_shape = (4,))\n",
        "                                          ])"
      ],
      "execution_count": null,
      "outputs": []
    },
    {
      "cell_type": "code",
      "metadata": {
        "colab": {
          "base_uri": "https://localhost:8080/"
        },
        "id": "Ytj6XB_EwtV1",
        "outputId": "953275d8-3763-4ad0-c1ea-8de9398b8b98"
      },
      "source": [
        "simple_layer_model.summary()"
      ],
      "execution_count": null,
      "outputs": [
        {
          "output_type": "stream",
          "text": [
            "Model: \"sequential_1\"\n",
            "_________________________________________________________________\n",
            "Layer (type)                 Output Shape              Param #   \n",
            "=================================================================\n",
            "dense_1 (Dense)              (None, 3)                 15        \n",
            "=================================================================\n",
            "Total params: 15\n",
            "Trainable params: 15\n",
            "Non-trainable params: 0\n",
            "_________________________________________________________________\n"
          ],
          "name": "stdout"
        }
      ]
    },
    {
      "cell_type": "code",
      "metadata": {
        "id": "vkuH0jo0wxRY"
      },
      "source": [
        "simple_layer_model.compile(optimizer=tf.keras.optimizers.Adam(learning_rate=0.01),\n",
        "                           loss = 'categorical_crossentropy', metrics = ['accuracy'])\n"
      ],
      "execution_count": null,
      "outputs": []
    },
    {
      "cell_type": "code",
      "metadata": {
        "colab": {
          "base_uri": "https://localhost:8080/"
        },
        "id": "Uo0OoPG3xwaB",
        "outputId": "56f9817b-f3d9-4d5b-f657-a27e9d3e0677"
      },
      "source": [
        "history_1 = simple_layer_model.fit(train_X, train_Y,\n",
        "                       epochs = 25,\n",
        "                       batch_size = 2)"
      ],
      "execution_count": null,
      "outputs": [
        {
          "output_type": "stream",
          "text": [
            "Epoch 1/25\n",
            "4/4 [==============================] - 0s 3ms/step - loss: 1.1085 - accuracy: 0.0000e+00\n",
            "Epoch 2/25\n",
            "4/4 [==============================] - 0s 4ms/step - loss: 1.0832 - accuracy: 0.1250\n",
            "Epoch 3/25\n",
            "4/4 [==============================] - 0s 3ms/step - loss: 1.0618 - accuracy: 0.3750\n",
            "Epoch 4/25\n",
            "4/4 [==============================] - 0s 4ms/step - loss: 1.0398 - accuracy: 0.7500\n",
            "Epoch 5/25\n",
            "4/4 [==============================] - 0s 3ms/step - loss: 1.0185 - accuracy: 0.7500\n",
            "Epoch 6/25\n",
            "4/4 [==============================] - 0s 3ms/step - loss: 1.0031 - accuracy: 0.7500\n",
            "Epoch 7/25\n",
            "4/4 [==============================] - 0s 3ms/step - loss: 0.9868 - accuracy: 0.7500\n",
            "Epoch 8/25\n",
            "4/4 [==============================] - 0s 3ms/step - loss: 0.9664 - accuracy: 0.7500\n",
            "Epoch 9/25\n",
            "4/4 [==============================] - 0s 3ms/step - loss: 0.9538 - accuracy: 0.7500\n",
            "Epoch 10/25\n",
            "4/4 [==============================] - 0s 2ms/step - loss: 0.9369 - accuracy: 0.7500\n",
            "Epoch 11/25\n",
            "4/4 [==============================] - 0s 2ms/step - loss: 0.9229 - accuracy: 0.7500\n",
            "Epoch 12/25\n",
            "4/4 [==============================] - 0s 3ms/step - loss: 0.9103 - accuracy: 0.7500\n",
            "Epoch 13/25\n",
            "4/4 [==============================] - 0s 3ms/step - loss: 0.8984 - accuracy: 0.7500\n",
            "Epoch 14/25\n",
            "4/4 [==============================] - 0s 3ms/step - loss: 0.8833 - accuracy: 0.7500\n",
            "Epoch 15/25\n",
            "4/4 [==============================] - 0s 2ms/step - loss: 0.8724 - accuracy: 0.7500\n",
            "Epoch 16/25\n",
            "4/4 [==============================] - 0s 2ms/step - loss: 0.8605 - accuracy: 0.7500\n",
            "Epoch 17/25\n",
            "4/4 [==============================] - 0s 2ms/step - loss: 0.8480 - accuracy: 0.8750\n",
            "Epoch 18/25\n",
            "4/4 [==============================] - 0s 2ms/step - loss: 0.8362 - accuracy: 0.8750\n",
            "Epoch 19/25\n",
            "4/4 [==============================] - 0s 3ms/step - loss: 0.8262 - accuracy: 0.8750\n",
            "Epoch 20/25\n",
            "4/4 [==============================] - 0s 3ms/step - loss: 0.8144 - accuracy: 0.8750\n",
            "Epoch 21/25\n",
            "4/4 [==============================] - 0s 2ms/step - loss: 0.8033 - accuracy: 0.8750\n",
            "Epoch 22/25\n",
            "4/4 [==============================] - 0s 7ms/step - loss: 0.7948 - accuracy: 0.8750\n",
            "Epoch 23/25\n",
            "4/4 [==============================] - 0s 2ms/step - loss: 0.7830 - accuracy: 0.8750\n",
            "Epoch 24/25\n",
            "4/4 [==============================] - 0s 3ms/step - loss: 0.7735 - accuracy: 0.8750\n",
            "Epoch 25/25\n",
            "4/4 [==============================] - 0s 3ms/step - loss: 0.7633 - accuracy: 0.8750\n"
          ],
          "name": "stdout"
        }
      ]
    },
    {
      "cell_type": "code",
      "metadata": {
        "colab": {
          "base_uri": "https://localhost:8080/",
          "height": 245
        },
        "id": "aFaWZIP9yG9H",
        "outputId": "023de7dd-228e-4950-fe6d-735d5e25e252"
      },
      "source": [
        "plt.figure(figsize=(12,4))\n",
        "plt.plot(history_1.history['loss'], 'b--o', label = 'loss')\n",
        "plt.plot(history_1.history['accuracy'], 'r--o', label = 'acc')\n",
        "plt.xlabel('Epcch')\n",
        "plt.ylabel('Loss')\n",
        "plt.legend()\n",
        "plt.grid()\n",
        "plt.show()"
      ],
      "execution_count": null,
      "outputs": [
        {
          "output_type": "display_data",
          "data": {
            "image/png": "[encoded data removed]",
            "text/plain": [
              "<Figure size 864x288 with 1 Axes>"
            ]
          },
          "metadata": {
            "tags": [],
            "needs_background": "light"
          }
        }
      ]
    },
    {
      "cell_type": "code",
      "metadata": {
        "colab": {
          "base_uri": "https://localhost:8080/"
        },
        "id": "_xnrol04ywbL",
        "outputId": "ad2636f9-b25e-4230-910f-e67de31c4f5e"
      },
      "source": [
        "simple_layer_model.evaluate(test_X,test_Y)"
      ],
      "execution_count": null,
      "outputs": [
        {
          "output_type": "stream",
          "text": [
            "1/1 [==============================] - 0s 115ms/step - loss: 0.8957 - accuracy: 0.5000\n"
          ],
          "name": "stdout"
        },
        {
          "output_type": "execute_result",
          "data": {
            "text/plain": [
              "[0.8956736326217651, 0.5]"
            ]
          },
          "metadata": {
            "tags": []
          },
          "execution_count": 45
        }
      ]
    },
    {
      "cell_type": "code",
      "metadata": {
        "colab": {
          "base_uri": "https://localhost:8080/"
        },
        "id": "vr7HR1jRy-vu",
        "outputId": "b26621bb-1a71-4890-c5fc-df9db248d06e"
      },
      "source": [
        "test_Y.shape"
      ],
      "execution_count": null,
      "outputs": [
        {
          "output_type": "execute_result",
          "data": {
            "text/plain": [
              "(2, 3)"
            ]
          },
          "metadata": {
            "tags": []
          },
          "execution_count": 46
        }
      ]
    },
    {
      "cell_type": "code",
      "metadata": {
        "colab": {
          "base_uri": "https://localhost:8080/"
        },
        "id": "60-txzen3lZo",
        "outputId": "6b966c3a-6b3e-42e7-e031-07e4f0855528"
      },
      "source": [
        "pred_Y = simple_layer_model.predict(test_X)\n",
        "print(\"pred_Y : \", pred_Y)"
      ],
      "execution_count": null,
      "outputs": [
        {
          "output_type": "stream",
          "text": [
            "pred_Y :  [[0.13036405 0.36840558 0.5012304 ]\n",
            " [0.33265212 0.44827744 0.21907037]]\n"
          ],
          "name": "stdout"
        }
      ]
    },
    {
      "cell_type": "code",
      "metadata": {
        "colab": {
          "base_uri": "https://localhost:8080/"
        },
        "id": "8YVIQaCz3yNW",
        "outputId": "24fdf51d-98e7-4722-bc97-c58b60b2c7be"
      },
      "source": [
        "pred_Y = np.argmax(pred_Y, axis = 1)\n",
        "print(\"pred_Y :\", pred_Y)"
      ],
      "execution_count": null,
      "outputs": [
        {
          "output_type": "stream",
          "text": [
            "pred_Y : [2 1]\n"
          ],
          "name": "stdout"
        }
      ]
    },
    {
      "cell_type": "code",
      "metadata": {
        "colab": {
          "base_uri": "https://localhost:8080/"
        },
        "id": "011fO4XN30Zs",
        "outputId": "a1302f97-f99c-4b29-b363-bc77baa37114"
      },
      "source": [
        "test_Y = np.argmax(test_Y, axis = 1)\n",
        "print(\"test_Y :\", test_Y)"
      ],
      "execution_count": null,
      "outputs": [
        {
          "output_type": "stream",
          "text": [
            "test_Y : [2 0]\n"
          ],
          "name": "stdout"
        }
      ]
    },
    {
      "cell_type": "code",
      "metadata": {
        "colab": {
          "base_uri": "https://localhost:8080/"
        },
        "id": "O3x30FOC5O4l",
        "outputId": "d65d57f1-7b22-4957-c456-cce26a5f90ed"
      },
      "source": [
        "np.equal(pred_Y, test_Y)"
      ],
      "execution_count": null,
      "outputs": [
        {
          "output_type": "execute_result",
          "data": {
            "text/plain": [
              "array([ True, False])"
            ]
          },
          "metadata": {
            "tags": []
          },
          "execution_count": 52
        }
      ]
    },
    {
      "cell_type": "code",
      "metadata": {
        "colab": {
          "base_uri": "https://localhost:8080/"
        },
        "id": "sCanpMhi5fRV",
        "outputId": "61e50e0f-40ba-44b8-d81f-f3bb0122f578"
      },
      "source": [
        "acc = np.mean(np.equal(pred_Y, test_Y))\n",
        "print(\"ACC : {} %\".format(acc * 100))"
      ],
      "execution_count": null,
      "outputs": [
        {
          "output_type": "stream",
          "text": [
            "ACC : 50.0 %\n"
          ],
          "name": "stdout"
        }
      ]
    },
    {
      "cell_type": "code",
      "metadata": {
        "colab": {
          "base_uri": "https://localhost:8080/"
        },
        "id": "wdDao3DB5rHk",
        "outputId": "35b8865f-a117-40b6-fe05-716e63648eb1"
      },
      "source": [
        "\n",
        "df_dataset = pd.read_csv('/content/drive/MyDrive/Deep/faults.csv')\n",
        "df_dataset.info()"
      ],
      "execution_count": null,
      "outputs": [
        {
          "output_type": "stream",
          "text": [
            "<class 'pandas.core.frame.DataFrame'>\n",
            "RangeIndex: 1941 entries, 0 to 1940\n",
            "Data columns (total 34 columns):\n",
            " #   Column                 Non-Null Count  Dtype  \n",
            "---  ------                 --------------  -----  \n",
            " 0   X_Minimum              1941 non-null   int64  \n",
            " 1   X_Maximum              1941 non-null   int64  \n",
            " 2   Y_Minimum              1941 non-null   int64  \n",
            " 3   Y_Maximum              1941 non-null   int64  \n",
            " 4   Pixels_Areas           1941 non-null   int64  \n",
            " 5   X_Perimeter            1941 non-null   int64  \n",
            " 6   Y_Perimeter            1941 non-null   int64  \n",
            " 7   Sum_of_Luminosity      1941 non-null   int64  \n",
            " 8   Minimum_of_Luminosity  1941 non-null   int64  \n",
            " 9   Maximum_of_Luminosity  1941 non-null   int64  \n",
            " 10  Length_of_Conveyer     1941 non-null   int64  \n",
            " 11  TypeOfSteel_A300       1941 non-null   int64  \n",
            " 12  TypeOfSteel_A400       1941 non-null   int64  \n",
            " 13  Steel_Plate_Thickness  1941 non-null   int64  \n",
            " 14  Edges_Index            1941 non-null   float64\n",
            " 15  Empty_Index            1941 non-null   float64\n",
            " 16  Square_Index           1941 non-null   float64\n",
            " 17  Outside_X_Index        1941 non-null   float64\n",
            " 18  Edges_X_Index          1941 non-null   float64\n",
            " 19  Edges_Y_Index          1941 non-null   float64\n",
            " 20  Outside_Global_Index   1941 non-null   float64\n",
            " 21  LogOfAreas             1941 non-null   float64\n",
            " 22  Log_X_Index            1941 non-null   float64\n",
            " 23  Log_Y_Index            1941 non-null   float64\n",
            " 24  Orientation_Index      1941 non-null   float64\n",
            " 25  Luminosity_Index       1941 non-null   float64\n",
            " 26  SigmoidOfAreas         1941 non-null   float64\n",
            " 27  Pastry                 1941 non-null   int64  \n",
            " 28  Z_Scratch              1941 non-null   int64  \n",
            " 29  K_Scatch               1941 non-null   int64  \n",
            " 30  Stains                 1941 non-null   int64  \n",
            " 31  Dirtiness              1941 non-null   int64  \n",
            " 32  Bumps                  1941 non-null   int64  \n",
            " 33  Other_Faults           1941 non-null   int64  \n",
            "dtypes: float64(13), int64(21)\n",
            "memory usage: 515.7 KB\n"
          ],
          "name": "stdout"
        }
      ]
    },
    {
      "cell_type": "code",
      "metadata": {
        "id": "cbaoe0sX50lC"
      },
      "source": [
        "faults_norm = (df_dataset - df_dataset.min()) / (df_dataset.max() - df_dataset.min()) "
      ],
      "execution_count": null,
      "outputs": []
    },
    {
      "cell_type": "code",
      "metadata": {
        "colab": {
          "base_uri": "https://localhost:8080/",
          "height": 317
        },
        "id": "GztD4xbC6RtG",
        "outputId": "6f6e5c25-4af5-48f8-a85f-666c94f201b1"
      },
      "source": [
        "faults_norm.describe()"
      ],
      "execution_count": null,
      "outputs": [
        {
          "output_type": "execute_result",
          "data": {
            "text/html": [
              "<div>\n",
              "<style scoped>\n",
              "    .dataframe tbody tr th:only-of-type {\n",
              "        vertical-align: middle;\n",
              "    }\n",
              "\n",
              "    .dataframe tbody tr th {\n",
              "        vertical-align: top;\n",
              "    }\n",
              "\n",
              "    .dataframe thead th {\n",
              "        text-align: right;\n",
              "    }\n",
              "</style>\n",
              "<table border=\"1\" class=\"dataframe\">\n",
              "  <thead>\n",
              "    <tr style=\"text-align: right;\">\n",
              "      <th></th>\n",
              "      <th>X_Minimum</th>\n",
              "      <th>X_Maximum</th>\n",
              "      <th>Y_Minimum</th>\n",
              "      <th>Y_Maximum</th>\n",
              "      <th>Pixels_Areas</th>\n",
              "      <th>X_Perimeter</th>\n",
              "      <th>Y_Perimeter</th>\n",
              "      <th>Sum_of_Luminosity</th>\n",
              "      <th>Minimum_of_Luminosity</th>\n",
              "      <th>Maximum_of_Luminosity</th>\n",
              "      <th>Length_of_Conveyer</th>\n",
              "      <th>TypeOfSteel_A300</th>\n",
              "      <th>TypeOfSteel_A400</th>\n",
              "      <th>Steel_Plate_Thickness</th>\n",
              "      <th>Edges_Index</th>\n",
              "      <th>Empty_Index</th>\n",
              "      <th>Square_Index</th>\n",
              "      <th>Outside_X_Index</th>\n",
              "      <th>Edges_X_Index</th>\n",
              "      <th>Edges_Y_Index</th>\n",
              "      <th>Outside_Global_Index</th>\n",
              "      <th>LogOfAreas</th>\n",
              "      <th>Log_X_Index</th>\n",
              "      <th>Log_Y_Index</th>\n",
              "      <th>Orientation_Index</th>\n",
              "      <th>Luminosity_Index</th>\n",
              "      <th>SigmoidOfAreas</th>\n",
              "      <th>Pastry</th>\n",
              "      <th>Z_Scratch</th>\n",
              "      <th>K_Scatch</th>\n",
              "      <th>Stains</th>\n",
              "      <th>Dirtiness</th>\n",
              "      <th>Bumps</th>\n",
              "      <th>Other_Faults</th>\n",
              "    </tr>\n",
              "  </thead>\n",
              "  <tbody>\n",
              "    <tr>\n",
              "      <th>count</th>\n",
              "      <td>1941.000000</td>\n",
              "      <td>1941.000000</td>\n",
              "      <td>1941.000000</td>\n",
              "      <td>1941.000000</td>\n",
              "      <td>1941.000000</td>\n",
              "      <td>1941.000000</td>\n",
              "      <td>1941.000000</td>\n",
              "      <td>1941.000000</td>\n",
              "      <td>1941.000000</td>\n",
              "      <td>1941.000000</td>\n",
              "      <td>1941.000000</td>\n",
              "      <td>1941.000000</td>\n",
              "      <td>1941.000000</td>\n",
              "      <td>1941.000000</td>\n",
              "      <td>1941.000000</td>\n",
              "      <td>1941.000000</td>\n",
              "      <td>1941.000000</td>\n",
              "      <td>1941.000000</td>\n",
              "      <td>1941.000000</td>\n",
              "      <td>1941.000000</td>\n",
              "      <td>1941.000000</td>\n",
              "      <td>1941.000000</td>\n",
              "      <td>1941.000000</td>\n",
              "      <td>1941.000000</td>\n",
              "      <td>1941.000000</td>\n",
              "      <td>1941.000000</td>\n",
              "      <td>1941.000000</td>\n",
              "      <td>1941.000000</td>\n",
              "      <td>1941.000000</td>\n",
              "      <td>1941.000000</td>\n",
              "      <td>1941.000000</td>\n",
              "      <td>1941.000000</td>\n",
              "      <td>1941.000000</td>\n",
              "      <td>1941.000000</td>\n",
              "    </tr>\n",
              "    <tr>\n",
              "      <th>mean</th>\n",
              "      <td>0.334977</td>\n",
              "      <td>0.359254</td>\n",
              "      <td>0.126645</td>\n",
              "      <td>0.126648</td>\n",
              "      <td>0.012393</td>\n",
              "      <td>0.010515</td>\n",
              "      <td>0.004516</td>\n",
              "      <td>0.017778</td>\n",
              "      <td>0.416496</td>\n",
              "      <td>0.431452</td>\n",
              "      <td>0.409454</td>\n",
              "      <td>0.400309</td>\n",
              "      <td>0.599691</td>\n",
              "      <td>0.148991</td>\n",
              "      <td>0.333315</td>\n",
              "      <td>0.438821</td>\n",
              "      <td>0.567175</td>\n",
              "      <td>0.036438</td>\n",
              "      <td>0.604838</td>\n",
              "      <td>0.803985</td>\n",
              "      <td>0.575734</td>\n",
              "      <td>0.448807</td>\n",
              "      <td>0.373115</td>\n",
              "      <td>0.329507</td>\n",
              "      <td>0.541831</td>\n",
              "      <td>0.528699</td>\n",
              "      <td>0.529422</td>\n",
              "      <td>0.081401</td>\n",
              "      <td>0.097888</td>\n",
              "      <td>0.201443</td>\n",
              "      <td>0.037094</td>\n",
              "      <td>0.028336</td>\n",
              "      <td>0.207110</td>\n",
              "      <td>0.346728</td>\n",
              "    </tr>\n",
              "    <tr>\n",
              "      <th>std</th>\n",
              "      <td>0.305390</td>\n",
              "      <td>0.291180</td>\n",
              "      <td>0.136706</td>\n",
              "      <td>0.136707</td>\n",
              "      <td>0.033858</td>\n",
              "      <td>0.028832</td>\n",
              "      <td>0.023496</td>\n",
              "      <td>0.044197</td>\n",
              "      <td>0.158297</td>\n",
              "      <td>0.086532</td>\n",
              "      <td>0.254987</td>\n",
              "      <td>0.490087</td>\n",
              "      <td>0.490087</td>\n",
              "      <td>0.211869</td>\n",
              "      <td>0.301157</td>\n",
              "      <td>0.145420</td>\n",
              "      <td>0.273327</td>\n",
              "      <td>0.067430</td>\n",
              "      <td>0.246831</td>\n",
              "      <td>0.246189</td>\n",
              "      <td>0.482352</td>\n",
              "      <td>0.161577</td>\n",
              "      <td>0.173673</td>\n",
              "      <td>0.106686</td>\n",
              "      <td>0.252619</td>\n",
              "      <td>0.090656</td>\n",
              "      <td>0.385303</td>\n",
              "      <td>0.273521</td>\n",
              "      <td>0.297239</td>\n",
              "      <td>0.401181</td>\n",
              "      <td>0.189042</td>\n",
              "      <td>0.165973</td>\n",
              "      <td>0.405339</td>\n",
              "      <td>0.476051</td>\n",
              "    </tr>\n",
              "    <tr>\n",
              "      <th>min</th>\n",
              "      <td>0.000000</td>\n",
              "      <td>0.000000</td>\n",
              "      <td>0.000000</td>\n",
              "      <td>0.000000</td>\n",
              "      <td>0.000000</td>\n",
              "      <td>0.000000</td>\n",
              "      <td>0.000000</td>\n",
              "      <td>0.000000</td>\n",
              "      <td>0.000000</td>\n",
              "      <td>0.000000</td>\n",
              "      <td>0.000000</td>\n",
              "      <td>0.000000</td>\n",
              "      <td>0.000000</td>\n",
              "      <td>0.000000</td>\n",
              "      <td>0.000000</td>\n",
              "      <td>0.000000</td>\n",
              "      <td>0.000000</td>\n",
              "      <td>0.000000</td>\n",
              "      <td>0.000000</td>\n",
              "      <td>0.000000</td>\n",
              "      <td>0.000000</td>\n",
              "      <td>0.000000</td>\n",
              "      <td>0.000000</td>\n",
              "      <td>0.000000</td>\n",
              "      <td>0.000000</td>\n",
              "      <td>0.000000</td>\n",
              "      <td>0.000000</td>\n",
              "      <td>0.000000</td>\n",
              "      <td>0.000000</td>\n",
              "      <td>0.000000</td>\n",
              "      <td>0.000000</td>\n",
              "      <td>0.000000</td>\n",
              "      <td>0.000000</td>\n",
              "      <td>0.000000</td>\n",
              "    </tr>\n",
              "    <tr>\n",
              "      <th>25%</th>\n",
              "      <td>0.029912</td>\n",
              "      <td>0.110006</td>\n",
              "      <td>0.035786</td>\n",
              "      <td>0.035788</td>\n",
              "      <td>0.000537</td>\n",
              "      <td>0.001244</td>\n",
              "      <td>0.000661</td>\n",
              "      <td>0.000800</td>\n",
              "      <td>0.310345</td>\n",
              "      <td>0.402778</td>\n",
              "      <td>0.231041</td>\n",
              "      <td>0.000000</td>\n",
              "      <td>0.000000</td>\n",
              "      <td>0.000000</td>\n",
              "      <td>0.060691</td>\n",
              "      <td>0.334569</td>\n",
              "      <td>0.355954</td>\n",
              "      <td>0.005833</td>\n",
              "      <td>0.403206</td>\n",
              "      <td>0.576293</td>\n",
              "      <td>0.000000</td>\n",
              "      <td>0.332459</td>\n",
              "      <td>0.252064</td>\n",
              "      <td>0.253411</td>\n",
              "      <td>0.331719</td>\n",
              "      <td>0.489884</td>\n",
              "      <td>0.146652</td>\n",
              "      <td>0.000000</td>\n",
              "      <td>0.000000</td>\n",
              "      <td>0.000000</td>\n",
              "      <td>0.000000</td>\n",
              "      <td>0.000000</td>\n",
              "      <td>0.000000</td>\n",
              "      <td>0.000000</td>\n",
              "    </tr>\n",
              "    <tr>\n",
              "      <th>50%</th>\n",
              "      <td>0.255132</td>\n",
              "      <td>0.270919</td>\n",
              "      <td>0.092244</td>\n",
              "      <td>0.092244</td>\n",
              "      <td>0.001127</td>\n",
              "      <td>0.002297</td>\n",
              "      <td>0.001322</td>\n",
              "      <td>0.001635</td>\n",
              "      <td>0.443350</td>\n",
              "      <td>0.416667</td>\n",
              "      <td>0.241623</td>\n",
              "      <td>0.000000</td>\n",
              "      <td>1.000000</td>\n",
              "      <td>0.115385</td>\n",
              "      <td>0.228396</td>\n",
              "      <td>0.436593</td>\n",
              "      <td>0.551881</td>\n",
              "      <td>0.009835</td>\n",
              "      <td>0.631088</td>\n",
              "      <td>0.944725</td>\n",
              "      <td>1.000000</td>\n",
              "      <td>0.397239</td>\n",
              "      <td>0.315567</td>\n",
              "      <td>0.310470</td>\n",
              "      <td>0.547839</td>\n",
              "      <td>0.527666</td>\n",
              "      <td>0.439614</td>\n",
              "      <td>0.000000</td>\n",
              "      <td>0.000000</td>\n",
              "      <td>0.000000</td>\n",
              "      <td>0.000000</td>\n",
              "      <td>0.000000</td>\n",
              "      <td>0.000000</td>\n",
              "      <td>0.000000</td>\n",
              "    </tr>\n",
              "    <tr>\n",
              "      <th>75%</th>\n",
              "      <td>0.617595</td>\n",
              "      <td>0.624927</td>\n",
              "      <td>0.167658</td>\n",
              "      <td>0.167658</td>\n",
              "      <td>0.005372</td>\n",
              "      <td>0.007849</td>\n",
              "      <td>0.004518</td>\n",
              "      <td>0.007140</td>\n",
              "      <td>0.522167</td>\n",
              "      <td>0.476852</td>\n",
              "      <td>0.746032</td>\n",
              "      <td>1.000000</td>\n",
              "      <td>1.000000</td>\n",
              "      <td>0.153846</td>\n",
              "      <td>0.576568</td>\n",
              "      <td>0.531412</td>\n",
              "      <td>0.816678</td>\n",
              "      <td>0.025160</td>\n",
              "      <td>0.797078</td>\n",
              "      <td>1.000000</td>\n",
              "      <td>1.000000</td>\n",
              "      <td>0.535339</td>\n",
              "      <td>0.439039</td>\n",
              "      <td>0.406791</td>\n",
              "      <td>0.757855</td>\n",
              "      <td>0.568129</td>\n",
              "      <td>0.999773</td>\n",
              "      <td>0.000000</td>\n",
              "      <td>0.000000</td>\n",
              "      <td>0.000000</td>\n",
              "      <td>0.000000</td>\n",
              "      <td>0.000000</td>\n",
              "      <td>0.000000</td>\n",
              "      <td>1.000000</td>\n",
              "    </tr>\n",
              "    <tr>\n",
              "      <th>max</th>\n",
              "      <td>1.000000</td>\n",
              "      <td>1.000000</td>\n",
              "      <td>1.000000</td>\n",
              "      <td>1.000000</td>\n",
              "      <td>1.000000</td>\n",
              "      <td>1.000000</td>\n",
              "      <td>1.000000</td>\n",
              "      <td>1.000000</td>\n",
              "      <td>1.000000</td>\n",
              "      <td>1.000000</td>\n",
              "      <td>1.000000</td>\n",
              "      <td>1.000000</td>\n",
              "      <td>1.000000</td>\n",
              "      <td>1.000000</td>\n",
              "      <td>1.000000</td>\n",
              "      <td>1.000000</td>\n",
              "      <td>1.000000</td>\n",
              "      <td>1.000000</td>\n",
              "      <td>1.000000</td>\n",
              "      <td>1.000000</td>\n",
              "      <td>1.000000</td>\n",
              "      <td>1.000000</td>\n",
              "      <td>1.000000</td>\n",
              "      <td>1.000000</td>\n",
              "      <td>1.000000</td>\n",
              "      <td>1.000000</td>\n",
              "      <td>1.000000</td>\n",
              "      <td>1.000000</td>\n",
              "      <td>1.000000</td>\n",
              "      <td>1.000000</td>\n",
              "      <td>1.000000</td>\n",
              "      <td>1.000000</td>\n",
              "      <td>1.000000</td>\n",
              "      <td>1.000000</td>\n",
              "    </tr>\n",
              "  </tbody>\n",
              "</table>\n",
              "</div>"
            ],
            "text/plain": [
              "         X_Minimum    X_Maximum  ...        Bumps  Other_Faults\n",
              "count  1941.000000  1941.000000  ...  1941.000000   1941.000000\n",
              "mean      0.334977     0.359254  ...     0.207110      0.346728\n",
              "std       0.305390     0.291180  ...     0.405339      0.476051\n",
              "min       0.000000     0.000000  ...     0.000000      0.000000\n",
              "25%       0.029912     0.110006  ...     0.000000      0.000000\n",
              "50%       0.255132     0.270919  ...     0.000000      0.000000\n",
              "75%       0.617595     0.624927  ...     0.000000      1.000000\n",
              "max       1.000000     1.000000  ...     1.000000      1.000000\n",
              "\n",
              "[8 rows x 34 columns]"
            ]
          },
          "metadata": {
            "tags": []
          },
          "execution_count": 61
        }
      ]
    },
    {
      "cell_type": "code",
      "metadata": {
        "colab": {
          "base_uri": "https://localhost:8080/"
        },
        "id": "xsKhw5iY6tYO",
        "outputId": "edad071e-68e6-4a5f-90ee-05867cd9c2ea"
      },
      "source": [
        "faults_shuffle = faults_norm.sample(frac = 1) \n",
        "print(faults_shuffle[:5])\n",
        "print(type(faults_norm))"
      ],
      "execution_count": null,
      "outputs": [
        {
          "output_type": "stream",
          "text": [
            "      X_Minimum  X_Maximum  Y_Minimum  ...  Dirtiness  Bumps  Other_Faults\n",
            "1805   0.607625   0.614394   0.073452  ...        0.0    0.0           1.0\n",
            "931    0.616422   0.621416   0.095825  ...        0.0    1.0           0.0\n",
            "1543   0.672141   0.713283   0.307470  ...        0.0    0.0           1.0\n",
            "1296   0.004106   0.008777   0.028417  ...        0.0    0.0           1.0\n",
            "1856   0.000000   0.013458   0.104241  ...        0.0    0.0           1.0\n",
            "\n",
            "[5 rows x 34 columns]\n",
            "<class 'pandas.core.frame.DataFrame'>\n"
          ],
          "name": "stdout"
        }
      ]
    },
    {
      "cell_type": "code",
      "metadata": {
        "colab": {
          "base_uri": "https://localhost:8080/"
        },
        "id": "1pj0ExsF6usW",
        "outputId": "4103c662-639b-44f0-e088-59cfd99b5774"
      },
      "source": [
        "faults_np = faults_shuffle.to_numpy()\n",
        "print(type(faults_np))"
      ],
      "execution_count": null,
      "outputs": [
        {
          "output_type": "stream",
          "text": [
            "<class 'numpy.ndarray'>\n"
          ],
          "name": "stdout"
        }
      ]
    },
    {
      "cell_type": "code",
      "metadata": {
        "id": "eAGY4TC664gY"
      },
      "source": [
        "train_ratio = 0.9\n",
        "input_cnt   = 27\n",
        "output_cnt  = 7"
      ],
      "execution_count": null,
      "outputs": []
    },
    {
      "cell_type": "code",
      "metadata": {
        "colab": {
          "base_uri": "https://localhost:8080/"
        },
        "id": "9TiXzB4R7KSC",
        "outputId": "c7c586e9-9c3e-47cc-c742-7e3ac1bb1e70"
      },
      "source": [
        "train_idx = int(len(faults_np) * train_ratio)\n",
        "print(\"train_idx : \", train_idx)"
      ],
      "execution_count": null,
      "outputs": [
        {
          "output_type": "stream",
          "text": [
            "train_idx :  1746\n"
          ],
          "name": "stdout"
        }
      ]
    },
    {
      "cell_type": "code",
      "metadata": {
        "id": "6MctF84K8RRn"
      },
      "source": [
        "train_X, train_Y = faults_np[:train_idx, :-output_cnt], faults_np[:train_idx, -output_cnt : ]\n",
        "test_X, test_Y = faults_np[train_idx:, :-output_cnt], faults_np[train_idx:, -output_cnt : ]"
      ],
      "execution_count": null,
      "outputs": []
    },
    {
      "cell_type": "code",
      "metadata": {
        "colab": {
          "base_uri": "https://localhost:8080/"
        },
        "id": "LYekrPdS8SgT",
        "outputId": "fcb3184e-9328-4a3c-ef7a-ca34d062bfcf"
      },
      "source": [
        "print(train_X.shape)\n",
        "print(train_Y.shape)\n",
        "\n",
        "print(test_X.shape)\n",
        "print(test_Y.shape)"
      ],
      "execution_count": null,
      "outputs": [
        {
          "output_type": "stream",
          "text": [
            "(1746, 27)\n",
            "(1746, 7)\n",
            "(195, 27)\n",
            "(195, 7)\n"
          ],
          "name": "stdout"
        }
      ]
    },
    {
      "cell_type": "code",
      "metadata": {
        "id": "K2uKHpel8nyg"
      },
      "source": [
        "multi_layer_model = tf.keras.Sequential([\n",
        "                                         tf.keras.layers.Dense(units= 48,\n",
        "                                                               activation = 'elu',\n",
        "                                                               input_shape = (27,)),\n",
        "                                         tf.keras.layers.Dense(units=24,\n",
        "                                                               activation = 'elu'),\n",
        "                                         tf.keras.layers.Dense(units=12,\n",
        "                                                               activation = 'elu'),\n",
        "                                         tf.keras.layers.Dense(units=7,\n",
        "                                                               activation = 'softmax')\n",
        "])"
      ],
      "execution_count": null,
      "outputs": []
    },
    {
      "cell_type": "code",
      "metadata": {
        "colab": {
          "base_uri": "https://localhost:8080/"
        },
        "id": "MrlsJYX29ye_",
        "outputId": "9cd94ffd-de18-461f-84b4-dff985bc89e8"
      },
      "source": [
        "multi_layer_model.summary()"
      ],
      "execution_count": null,
      "outputs": [
        {
          "output_type": "stream",
          "text": [
            "Model: \"sequential_2\"\n",
            "_________________________________________________________________\n",
            "Layer (type)                 Output Shape              Param #   \n",
            "=================================================================\n",
            "dense_2 (Dense)              (None, 48)                1344      \n",
            "_________________________________________________________________\n",
            "dense_3 (Dense)              (None, 24)                1176      \n",
            "_________________________________________________________________\n",
            "dense_4 (Dense)              (None, 12)                300       \n",
            "_________________________________________________________________\n",
            "dense_5 (Dense)              (None, 7)                 91        \n",
            "=================================================================\n",
            "Total params: 2,911\n",
            "Trainable params: 2,911\n",
            "Non-trainable params: 0\n",
            "_________________________________________________________________\n"
          ],
          "name": "stdout"
        }
      ]
    },
    {
      "cell_type": "code",
      "metadata": {
        "id": "eOVXlQVO-7d5"
      },
      "source": [
        "multi_layer_model.compile(optimizer=tf.keras.optimizers.Adam(learning_rate=0.01),\n",
        "                          loss = 'categorical_crossentropy')"
      ],
      "execution_count": null,
      "outputs": []
    },
    {
      "cell_type": "code",
      "metadata": {
        "colab": {
          "base_uri": "https://localhost:8080/"
        },
        "id": "dRi1C62w--eo",
        "outputId": "d8442412-89e3-4ac7-c085-cdbadbb2673e"
      },
      "source": [
        "history_2 = multi_layer_model.fit(train_X, train_Y,\n",
        "                                  epochs = 200, batch_size = 10)"
      ],
      "execution_count": null,
      "outputs": [
        {
          "output_type": "stream",
          "text": [
            "Epoch 1/200\n",
            "175/175 [==============================] - 1s 1ms/step - loss: 1.1680\n",
            "Epoch 2/200\n",
            "175/175 [==============================] - 0s 1ms/step - loss: 0.9375\n",
            "Epoch 3/200\n",
            "175/175 [==============================] - 0s 2ms/step - loss: 0.9080\n",
            "Epoch 4/200\n",
            "175/175 [==============================] - 0s 1ms/step - loss: 0.8404\n",
            "Epoch 5/200\n",
            "175/175 [==============================] - 0s 2ms/step - loss: 0.8186\n",
            "Epoch 6/200\n",
            "175/175 [==============================] - 0s 2ms/step - loss: 0.7968\n",
            "Epoch 7/200\n",
            "175/175 [==============================] - 0s 2ms/step - loss: 0.7768\n",
            "Epoch 8/200\n",
            "175/175 [==============================] - 0s 1ms/step - loss: 0.7749\n",
            "Epoch 9/200\n",
            "175/175 [==============================] - 0s 2ms/step - loss: 0.7222\n",
            "Epoch 10/200\n",
            "175/175 [==============================] - 0s 2ms/step - loss: 0.7332\n",
            "Epoch 11/200\n",
            "175/175 [==============================] - 0s 1ms/step - loss: 0.6966\n",
            "Epoch 12/200\n",
            "175/175 [==============================] - 0s 2ms/step - loss: 0.7010\n",
            "Epoch 13/200\n",
            "175/175 [==============================] - 0s 1ms/step - loss: 0.7191\n",
            "Epoch 14/200\n",
            "175/175 [==============================] - 0s 1ms/step - loss: 0.6670\n",
            "Epoch 15/200\n",
            "175/175 [==============================] - 0s 1ms/step - loss: 0.6842\n",
            "Epoch 16/200\n",
            "175/175 [==============================] - 0s 2ms/step - loss: 0.6511\n",
            "Epoch 17/200\n",
            "175/175 [==============================] - 0s 1ms/step - loss: 0.6628\n",
            "Epoch 18/200\n",
            "175/175 [==============================] - 0s 2ms/step - loss: 0.6586\n",
            "Epoch 19/200\n",
            "175/175 [==============================] - 0s 1ms/step - loss: 0.6375\n",
            "Epoch 20/200\n",
            "175/175 [==============================] - 0s 1ms/step - loss: 0.6423\n",
            "Epoch 21/200\n",
            "175/175 [==============================] - 0s 1ms/step - loss: 0.6091\n",
            "Epoch 22/200\n",
            "175/175 [==============================] - 0s 1ms/step - loss: 0.6102\n",
            "Epoch 23/200\n",
            "175/175 [==============================] - 0s 1ms/step - loss: 0.6258\n",
            "Epoch 24/200\n",
            "175/175 [==============================] - 0s 1ms/step - loss: 0.6303\n",
            "Epoch 25/200\n",
            "175/175 [==============================] - 0s 1ms/step - loss: 0.6103\n",
            "Epoch 26/200\n",
            "175/175 [==============================] - 0s 1ms/step - loss: 0.5828\n",
            "Epoch 27/200\n",
            "175/175 [==============================] - 0s 1ms/step - loss: 0.5828\n",
            "Epoch 28/200\n",
            "175/175 [==============================] - 0s 1ms/step - loss: 0.6148\n",
            "Epoch 29/200\n",
            "175/175 [==============================] - 0s 1ms/step - loss: 0.5984\n",
            "Epoch 30/200\n",
            "175/175 [==============================] - 0s 2ms/step - loss: 0.6112\n",
            "Epoch 31/200\n",
            "175/175 [==============================] - 0s 1ms/step - loss: 0.5629\n",
            "Epoch 32/200\n",
            "175/175 [==============================] - 0s 1ms/step - loss: 0.5736\n",
            "Epoch 33/200\n",
            "175/175 [==============================] - 0s 1ms/step - loss: 0.5885\n",
            "Epoch 34/200\n",
            "175/175 [==============================] - 0s 2ms/step - loss: 0.5639\n",
            "Epoch 35/200\n",
            "175/175 [==============================] - 0s 1ms/step - loss: 0.5586\n",
            "Epoch 36/200\n",
            "175/175 [==============================] - 0s 1ms/step - loss: 0.5522\n",
            "Epoch 37/200\n",
            "175/175 [==============================] - 0s 1ms/step - loss: 0.5643\n",
            "Epoch 38/200\n",
            "175/175 [==============================] - 0s 1ms/step - loss: 0.5509\n",
            "Epoch 39/200\n",
            "175/175 [==============================] - 0s 1ms/step - loss: 0.5736\n",
            "Epoch 40/200\n",
            "175/175 [==============================] - 0s 1ms/step - loss: 0.5395\n",
            "Epoch 41/200\n",
            "175/175 [==============================] - 0s 1ms/step - loss: 0.5620\n",
            "Epoch 42/200\n",
            "175/175 [==============================] - 0s 1ms/step - loss: 0.5202\n",
            "Epoch 43/200\n",
            "175/175 [==============================] - 0s 1ms/step - loss: 0.5207\n",
            "Epoch 44/200\n",
            "175/175 [==============================] - 0s 1ms/step - loss: 0.5337\n",
            "Epoch 45/200\n",
            "175/175 [==============================] - 0s 1ms/step - loss: 0.5175\n",
            "Epoch 46/200\n",
            "175/175 [==============================] - 0s 1ms/step - loss: 0.5440\n",
            "Epoch 47/200\n",
            "175/175 [==============================] - 0s 1ms/step - loss: 0.5505\n",
            "Epoch 48/200\n",
            "175/175 [==============================] - 0s 1ms/step - loss: 0.5036\n",
            "Epoch 49/200\n",
            "175/175 [==============================] - 0s 1ms/step - loss: 0.4869\n",
            "Epoch 50/200\n",
            "175/175 [==============================] - 0s 1ms/step - loss: 0.4986\n",
            "Epoch 51/200\n",
            "175/175 [==============================] - 0s 2ms/step - loss: 0.5265\n",
            "Epoch 52/200\n",
            "175/175 [==============================] - 0s 2ms/step - loss: 0.5013\n",
            "Epoch 53/200\n",
            "175/175 [==============================] - 0s 1ms/step - loss: 0.5195\n",
            "Epoch 54/200\n",
            "175/175 [==============================] - 0s 1ms/step - loss: 0.5136\n",
            "Epoch 55/200\n",
            "175/175 [==============================] - 0s 1ms/step - loss: 0.5037\n",
            "Epoch 56/200\n",
            "175/175 [==============================] - 0s 1ms/step - loss: 0.5110\n",
            "Epoch 57/200\n",
            "175/175 [==============================] - 0s 1ms/step - loss: 0.5082\n",
            "Epoch 58/200\n",
            "175/175 [==============================] - 0s 2ms/step - loss: 0.4997\n",
            "Epoch 59/200\n",
            "175/175 [==============================] - 0s 1ms/step - loss: 0.4658\n",
            "Epoch 60/200\n",
            "175/175 [==============================] - 0s 1ms/step - loss: 0.5127\n",
            "Epoch 61/200\n",
            "175/175 [==============================] - 0s 1ms/step - loss: 0.4820\n",
            "Epoch 62/200\n",
            "175/175 [==============================] - 0s 1ms/step - loss: 0.4990\n",
            "Epoch 63/200\n",
            "175/175 [==============================] - 0s 2ms/step - loss: 0.4784\n",
            "Epoch 64/200\n",
            "175/175 [==============================] - 0s 1ms/step - loss: 0.4740\n",
            "Epoch 65/200\n",
            "175/175 [==============================] - 0s 1ms/step - loss: 0.5239\n",
            "Epoch 66/200\n",
            "175/175 [==============================] - 0s 1ms/step - loss: 0.4780\n",
            "Epoch 67/200\n",
            "175/175 [==============================] - 0s 1ms/step - loss: 0.4470\n",
            "Epoch 68/200\n",
            "175/175 [==============================] - 0s 1ms/step - loss: 0.4422\n",
            "Epoch 69/200\n",
            "175/175 [==============================] - 0s 2ms/step - loss: 0.4804\n",
            "Epoch 70/200\n",
            "175/175 [==============================] - 0s 1ms/step - loss: 0.4581\n",
            "Epoch 71/200\n",
            "175/175 [==============================] - 0s 2ms/step - loss: 0.4400\n",
            "Epoch 72/200\n",
            "175/175 [==============================] - 0s 1ms/step - loss: 0.4651\n",
            "Epoch 73/200\n",
            "175/175 [==============================] - 0s 1ms/step - loss: 0.4413\n",
            "Epoch 74/200\n",
            "175/175 [==============================] - 0s 1ms/step - loss: 0.4962\n",
            "Epoch 75/200\n",
            "175/175 [==============================] - 0s 1ms/step - loss: 0.4611\n",
            "Epoch 76/200\n",
            "175/175 [==============================] - 0s 1ms/step - loss: 0.4422\n",
            "Epoch 77/200\n",
            "175/175 [==============================] - 0s 1ms/step - loss: 0.4890\n",
            "Epoch 78/200\n",
            "175/175 [==============================] - 0s 1ms/step - loss: 0.4983\n",
            "Epoch 79/200\n",
            "175/175 [==============================] - 0s 2ms/step - loss: 0.4373\n",
            "Epoch 80/200\n",
            "175/175 [==============================] - 0s 2ms/step - loss: 0.4548\n",
            "Epoch 81/200\n",
            "175/175 [==============================] - 0s 1ms/step - loss: 0.4375\n",
            "Epoch 82/200\n",
            "175/175 [==============================] - 0s 1ms/step - loss: 0.4428\n",
            "Epoch 83/200\n",
            "175/175 [==============================] - 0s 1ms/step - loss: 0.4660\n",
            "Epoch 84/200\n",
            "175/175 [==============================] - 0s 1ms/step - loss: 0.4691\n",
            "Epoch 85/200\n",
            "175/175 [==============================] - 0s 2ms/step - loss: 0.4195\n",
            "Epoch 86/200\n",
            "175/175 [==============================] - 0s 1ms/step - loss: 0.4243\n",
            "Epoch 87/200\n",
            "175/175 [==============================] - 0s 1ms/step - loss: 0.4050\n",
            "Epoch 88/200\n",
            "175/175 [==============================] - 0s 1ms/step - loss: 0.4331\n",
            "Epoch 89/200\n",
            "175/175 [==============================] - 0s 1ms/step - loss: 0.4119\n",
            "Epoch 90/200\n",
            "175/175 [==============================] - 0s 1ms/step - loss: 0.5180\n",
            "Epoch 91/200\n",
            "175/175 [==============================] - 0s 1ms/step - loss: 0.4207\n",
            "Epoch 92/200\n",
            "175/175 [==============================] - 0s 1ms/step - loss: 0.4488\n",
            "Epoch 93/200\n",
            "175/175 [==============================] - 0s 1ms/step - loss: 0.3918\n",
            "Epoch 94/200\n",
            "175/175 [==============================] - 0s 1ms/step - loss: 0.3879\n",
            "Epoch 95/200\n",
            "175/175 [==============================] - 0s 1ms/step - loss: 0.3977\n",
            "Epoch 96/200\n",
            "175/175 [==============================] - 0s 1ms/step - loss: 0.3878\n",
            "Epoch 97/200\n",
            "175/175 [==============================] - 0s 1ms/step - loss: 0.4394\n",
            "Epoch 98/200\n",
            "175/175 [==============================] - 0s 1ms/step - loss: 0.3693\n",
            "Epoch 99/200\n",
            "175/175 [==============================] - 0s 2ms/step - loss: 0.4179\n",
            "Epoch 100/200\n",
            "175/175 [==============================] - 0s 1ms/step - loss: 0.4055\n",
            "Epoch 101/200\n",
            "175/175 [==============================] - 0s 2ms/step - loss: 0.3670\n",
            "Epoch 102/200\n",
            "175/175 [==============================] - 0s 1ms/step - loss: 0.4113\n",
            "Epoch 103/200\n",
            "175/175 [==============================] - 0s 2ms/step - loss: 0.4007\n",
            "Epoch 104/200\n",
            "175/175 [==============================] - 0s 1ms/step - loss: 0.4134\n",
            "Epoch 105/200\n",
            "175/175 [==============================] - 0s 1ms/step - loss: 0.4447\n",
            "Epoch 106/200\n",
            "175/175 [==============================] - 0s 1ms/step - loss: 0.4111\n",
            "Epoch 107/200\n",
            "175/175 [==============================] - 0s 1ms/step - loss: 0.3843\n",
            "Epoch 108/200\n",
            "175/175 [==============================] - 0s 1ms/step - loss: 0.3574\n",
            "Epoch 109/200\n",
            "175/175 [==============================] - 0s 1ms/step - loss: 0.3932\n",
            "Epoch 110/200\n",
            "175/175 [==============================] - 0s 2ms/step - loss: 0.3802\n",
            "Epoch 111/200\n",
            "175/175 [==============================] - 0s 1ms/step - loss: 0.3499\n",
            "Epoch 112/200\n",
            "175/175 [==============================] - 0s 1ms/step - loss: 0.3677\n",
            "Epoch 113/200\n",
            "175/175 [==============================] - 0s 1ms/step - loss: 0.4944\n",
            "Epoch 114/200\n",
            "175/175 [==============================] - 0s 2ms/step - loss: 0.3969\n",
            "Epoch 115/200\n",
            "175/175 [==============================] - 0s 1ms/step - loss: 0.3581\n",
            "Epoch 116/200\n",
            "175/175 [==============================] - 0s 1ms/step - loss: 0.3417\n",
            "Epoch 117/200\n",
            "175/175 [==============================] - 0s 1ms/step - loss: 0.3784\n",
            "Epoch 118/200\n",
            "175/175 [==============================] - 0s 2ms/step - loss: 0.3955\n",
            "Epoch 119/200\n",
            "175/175 [==============================] - 0s 1ms/step - loss: 0.3629\n",
            "Epoch 120/200\n",
            "175/175 [==============================] - 0s 1ms/step - loss: 0.4589\n",
            "Epoch 121/200\n",
            "175/175 [==============================] - 0s 2ms/step - loss: 0.3449\n",
            "Epoch 122/200\n",
            "175/175 [==============================] - 0s 2ms/step - loss: 0.3487\n",
            "Epoch 123/200\n",
            "175/175 [==============================] - 0s 1ms/step - loss: 0.3615\n",
            "Epoch 124/200\n",
            "175/175 [==============================] - 0s 1ms/step - loss: 0.3520\n",
            "Epoch 125/200\n",
            "175/175 [==============================] - 0s 1ms/step - loss: 0.3271\n",
            "Epoch 126/200\n",
            "175/175 [==============================] - 0s 1ms/step - loss: 0.3944\n",
            "Epoch 127/200\n",
            "175/175 [==============================] - 0s 1ms/step - loss: 0.4405\n",
            "Epoch 128/200\n",
            "175/175 [==============================] - 0s 2ms/step - loss: 0.3777\n",
            "Epoch 129/200\n",
            "175/175 [==============================] - 0s 1ms/step - loss: 0.3683\n",
            "Epoch 130/200\n",
            "175/175 [==============================] - 0s 2ms/step - loss: 0.3993\n",
            "Epoch 131/200\n",
            "175/175 [==============================] - 0s 2ms/step - loss: 0.2994\n",
            "Epoch 132/200\n",
            "175/175 [==============================] - 0s 1ms/step - loss: 0.3425\n",
            "Epoch 133/200\n",
            "175/175 [==============================] - 0s 1ms/step - loss: 0.3587\n",
            "Epoch 134/200\n",
            "175/175 [==============================] - 0s 1ms/step - loss: 0.3787\n",
            "Epoch 135/200\n",
            "175/175 [==============================] - 0s 2ms/step - loss: 0.3773\n",
            "Epoch 136/200\n",
            "175/175 [==============================] - 0s 1ms/step - loss: 0.3632\n",
            "Epoch 137/200\n",
            "175/175 [==============================] - 0s 1ms/step - loss: 0.3293\n",
            "Epoch 138/200\n",
            "175/175 [==============================] - 0s 2ms/step - loss: 0.3558\n",
            "Epoch 139/200\n",
            "175/175 [==============================] - 0s 1ms/step - loss: 0.3565\n",
            "Epoch 140/200\n",
            "175/175 [==============================] - 0s 2ms/step - loss: 0.4861\n",
            "Epoch 141/200\n",
            "175/175 [==============================] - 0s 2ms/step - loss: 0.3720\n",
            "Epoch 142/200\n",
            "175/175 [==============================] - 0s 1ms/step - loss: 0.3392\n",
            "Epoch 143/200\n",
            "175/175 [==============================] - 0s 2ms/step - loss: 0.3942\n",
            "Epoch 144/200\n",
            "175/175 [==============================] - 0s 1ms/step - loss: 0.2961\n",
            "Epoch 145/200\n",
            "175/175 [==============================] - 0s 2ms/step - loss: 0.3655\n",
            "Epoch 146/200\n",
            "175/175 [==============================] - 0s 2ms/step - loss: 0.3868\n",
            "Epoch 147/200\n",
            "175/175 [==============================] - 0s 1ms/step - loss: 0.3163\n",
            "Epoch 148/200\n",
            "175/175 [==============================] - 0s 2ms/step - loss: 0.4418\n",
            "Epoch 149/200\n",
            "175/175 [==============================] - 0s 1ms/step - loss: 0.3252\n",
            "Epoch 150/200\n",
            "175/175 [==============================] - 0s 1ms/step - loss: 0.3349\n",
            "Epoch 151/200\n",
            "175/175 [==============================] - 0s 1ms/step - loss: 0.3238\n",
            "Epoch 152/200\n",
            "175/175 [==============================] - 0s 1ms/step - loss: 0.3104\n",
            "Epoch 153/200\n",
            "175/175 [==============================] - 0s 1ms/step - loss: 0.3270\n",
            "Epoch 154/200\n",
            "175/175 [==============================] - 0s 2ms/step - loss: 0.3093\n",
            "Epoch 155/200\n",
            "175/175 [==============================] - 0s 1ms/step - loss: 0.3530\n",
            "Epoch 156/200\n",
            "175/175 [==============================] - 0s 1ms/step - loss: 0.3524\n",
            "Epoch 157/200\n",
            "175/175 [==============================] - 0s 2ms/step - loss: 0.3302\n",
            "Epoch 158/200\n",
            "175/175 [==============================] - 0s 1ms/step - loss: 0.3053\n",
            "Epoch 159/200\n",
            "175/175 [==============================] - 0s 1ms/step - loss: 0.3594\n",
            "Epoch 160/200\n",
            "175/175 [==============================] - 0s 2ms/step - loss: 0.3154\n",
            "Epoch 161/200\n",
            "175/175 [==============================] - 0s 1ms/step - loss: 0.2905\n",
            "Epoch 162/200\n",
            "175/175 [==============================] - 0s 2ms/step - loss: 0.3772\n",
            "Epoch 163/200\n",
            "175/175 [==============================] - 0s 1ms/step - loss: 0.3648\n",
            "Epoch 164/200\n",
            "175/175 [==============================] - 0s 2ms/step - loss: 0.2933\n",
            "Epoch 165/200\n",
            "175/175 [==============================] - 0s 1ms/step - loss: 0.3427\n",
            "Epoch 166/200\n",
            "175/175 [==============================] - 0s 1ms/step - loss: 0.3563\n",
            "Epoch 167/200\n",
            "175/175 [==============================] - 0s 1ms/step - loss: 0.2823\n",
            "Epoch 168/200\n",
            "175/175 [==============================] - 0s 1ms/step - loss: 0.3325\n",
            "Epoch 169/200\n",
            "175/175 [==============================] - 0s 1ms/step - loss: 0.3223\n",
            "Epoch 170/200\n",
            "175/175 [==============================] - 0s 2ms/step - loss: 0.3774\n",
            "Epoch 171/200\n",
            "175/175 [==============================] - 0s 1ms/step - loss: 0.3401\n",
            "Epoch 172/200\n",
            "175/175 [==============================] - 0s 2ms/step - loss: 0.3104\n",
            "Epoch 173/200\n",
            "175/175 [==============================] - 0s 1ms/step - loss: 0.3074\n",
            "Epoch 174/200\n",
            "175/175 [==============================] - 0s 2ms/step - loss: 0.2654\n",
            "Epoch 175/200\n",
            "175/175 [==============================] - 0s 2ms/step - loss: 0.3995\n",
            "Epoch 176/200\n",
            "175/175 [==============================] - 0s 2ms/step - loss: 0.3074\n",
            "Epoch 177/200\n",
            "175/175 [==============================] - 0s 2ms/step - loss: 0.2912\n",
            "Epoch 178/200\n",
            "175/175 [==============================] - 0s 1ms/step - loss: 0.3265\n",
            "Epoch 179/200\n",
            "175/175 [==============================] - 0s 2ms/step - loss: 0.4498\n",
            "Epoch 180/200\n",
            "175/175 [==============================] - 0s 2ms/step - loss: 0.3564\n",
            "Epoch 181/200\n",
            "175/175 [==============================] - 0s 2ms/step - loss: 0.3154\n",
            "Epoch 182/200\n",
            "175/175 [==============================] - 0s 1ms/step - loss: 0.3404\n",
            "Epoch 183/200\n",
            "175/175 [==============================] - 0s 2ms/step - loss: 0.2841\n",
            "Epoch 184/200\n",
            "175/175 [==============================] - 0s 1ms/step - loss: 0.2706\n",
            "Epoch 185/200\n",
            "175/175 [==============================] - 0s 2ms/step - loss: 0.3469\n",
            "Epoch 186/200\n",
            "175/175 [==============================] - 0s 2ms/step - loss: 0.2943\n",
            "Epoch 187/200\n",
            "175/175 [==============================] - 0s 2ms/step - loss: 0.3241\n",
            "Epoch 188/200\n",
            "175/175 [==============================] - 0s 2ms/step - loss: 0.2942\n",
            "Epoch 189/200\n",
            "175/175 [==============================] - 0s 1ms/step - loss: 0.2585\n",
            "Epoch 190/200\n",
            "175/175 [==============================] - 0s 2ms/step - loss: 0.3967\n",
            "Epoch 191/200\n",
            "175/175 [==============================] - 0s 2ms/step - loss: 0.3621\n",
            "Epoch 192/200\n",
            "175/175 [==============================] - 0s 1ms/step - loss: 0.3342\n",
            "Epoch 193/200\n",
            "175/175 [==============================] - 0s 2ms/step - loss: 0.3606\n",
            "Epoch 194/200\n",
            "175/175 [==============================] - 0s 2ms/step - loss: 0.3802\n",
            "Epoch 195/200\n",
            "175/175 [==============================] - 0s 2ms/step - loss: 0.3734\n",
            "Epoch 196/200\n",
            "175/175 [==============================] - 0s 2ms/step - loss: 0.3076\n",
            "Epoch 197/200\n",
            "175/175 [==============================] - 0s 1ms/step - loss: 0.2616\n",
            "Epoch 198/200\n",
            "175/175 [==============================] - 0s 2ms/step - loss: 0.3217\n",
            "Epoch 199/200\n",
            "175/175 [==============================] - 0s 1ms/step - loss: 0.3486\n",
            "Epoch 200/200\n",
            "175/175 [==============================] - 0s 2ms/step - loss: 0.3012\n"
          ],
          "name": "stdout"
        }
      ]
    },
    {
      "cell_type": "code",
      "metadata": {
        "colab": {
          "base_uri": "https://localhost:8080/"
        },
        "id": "-ofRgFBr_AYR",
        "outputId": "4417e622-a74e-42e1-824e-d1395a492084"
      },
      "source": [
        "multi_layer_model.evaluate(test_X, test_Y)"
      ],
      "execution_count": null,
      "outputs": [
        {
          "output_type": "stream",
          "text": [
            "7/7 [==============================] - 0s 2ms/step - loss: 2.0679\n"
          ],
          "name": "stdout"
        },
        {
          "output_type": "execute_result",
          "data": {
            "text/plain": [
              "2.067871332168579"
            ]
          },
          "metadata": {
            "tags": []
          },
          "execution_count": 79
        }
      ]
    },
    {
      "cell_type": "code",
      "metadata": {
        "colab": {
          "base_uri": "https://localhost:8080/"
        },
        "id": "_PvIQBOb_OiQ",
        "outputId": "b850d242-439a-4794-cbfc-6a85a11e8cae"
      },
      "source": [
        "test_X.shape"
      ],
      "execution_count": null,
      "outputs": [
        {
          "output_type": "execute_result",
          "data": {
            "text/plain": [
              "(195, 27)"
            ]
          },
          "metadata": {
            "tags": []
          },
          "execution_count": 74
        }
      ]
    },
    {
      "cell_type": "code",
      "metadata": {
        "id": "urGng89y_RSs"
      },
      "source": [
        "import matplotlib.pyplot as plt\n"
      ],
      "execution_count": null,
      "outputs": []
    },
    {
      "cell_type": "code",
      "metadata": {
        "colab": {
          "base_uri": "https://localhost:8080/",
          "height": 169
        },
        "id": "ydqo1jJJ_Ymp",
        "outputId": "6b079f28-1ebf-42de-bee3-12476891f957"
      },
      "source": [
        "plt.figure(figsize=(20,4))\n",
        "plt.plot(history_2.history['loss'],'b--o',label='loss')\n",
        "plt.xlabel('Epochs')\n",
        "plt.ylabel('Loss')\n",
        "plt.legend()\n",
        "plt.grid()\n",
        "\n",
        "plt.show()"
      ],
      "execution_count": null,
      "outputs": [
        {
          "output_type": "display_data",
          "data": {
            "image/png": "[encoded data removed]",
            "text/plain": [
              "<Figure size 1440x288 with 1 Axes>"
            ]
          },
          "metadata": {
            "tags": [],
            "needs_background": "light"
          }
        }
      ]
    },
    {
      "cell_type": "code",
      "metadata": {
        "colab": {
          "base_uri": "https://localhost:8080/"
        },
        "id": "ixzg6-nC_ydY",
        "outputId": "81cb05c6-6895-4c1f-99f7-15e67b8ff1a7"
      },
      "source": [
        "pred_Y = multi_layer_model.predict(test_X)\n",
        "print(pred_Y)\n"
      ],
      "execution_count": null,
      "outputs": [
        {
          "output_type": "stream",
          "text": [
            "[[1.6689096e-11 1.8188789e-03 9.1320580e-01 ... 1.6084434e-19\n",
            "  1.2738950e-06 8.4962763e-02]\n",
            " [1.2056885e-01 8.5005354e-07 3.1171796e-05 ... 8.9480949e-05\n",
            "  1.8115161e-01 6.9815761e-01]\n",
            " [8.1911194e-01 2.8660722e-07 1.6455533e-03 ... 1.2887618e-06\n",
            "  3.8610127e-05 1.7920241e-01]\n",
            " ...\n",
            " [0.0000000e+00 0.0000000e+00 0.0000000e+00 ... 0.0000000e+00\n",
            "  0.0000000e+00 1.0000000e+00]\n",
            " [5.7463875e-08 1.0335446e-10 9.9844700e-01 ... 3.7207093e-21\n",
            "  5.4497405e-12 1.5530586e-03]\n",
            " [4.3160339e-06 9.7958392e-01 1.5875190e-07 ... 4.2571102e-10\n",
            "  2.0871407e-03 1.8322093e-02]]\n"
          ],
          "name": "stdout"
        }
      ]
    },
    {
      "cell_type": "code",
      "metadata": {
        "colab": {
          "base_uri": "https://localhost:8080/"
        },
        "id": "pINcxUjLAPYr",
        "outputId": "6ac0a899-2d3b-4ad6-90d9-2c0de6dc4520"
      },
      "source": [
        "pred_Y = np.argmax(pred_Y,axis=1)\n",
        "print(pred_Y)"
      ],
      "execution_count": null,
      "outputs": [
        {
          "output_type": "stream",
          "text": [
            "[2 6 0 6 2 2 6 6 3 1 5 5 0 2 6 2 2 6 6 1 5 6 6 2 6 2 6 6 6 5 1 1 6 1 6 6 2\n",
            " 6 2 6 5 6 1 4 5 6 2 6 6 2 2 1 2 2 5 2 1 3 6 6 5 6 2 5 2 2 2 6 6 6 0 6 5 4\n",
            " 6 6 1 5 5 6 5 2 2 5 6 3 5 6 6 5 5 2 2 6 5 1 6 1 5 5 5 6 2 6 1 3 1 1 0 5 6\n",
            " 2 2 5 5 5 6 1 5 6 5 0 0 4 1 5 6 2 5 1 0 5 0 6 3 6 2 6 2 5 2 6 6 5 6 0 0 1\n",
            " 2 2 3 5 6 6 1 2 2 2 5 4 6 5 2 6 5 2 6 6 5 6 5 6 3 5 6 6 1 5 0 2 6 6 2 6 6\n",
            " 3 1 6 4 6 5 6 6 2 1]\n"
          ],
          "name": "stdout"
        }
      ]
    },
    {
      "cell_type": "code",
      "metadata": {
        "colab": {
          "base_uri": "https://localhost:8080/"
        },
        "id": "9-GniTNmAnBw",
        "outputId": "12c4f4be-dd8f-4729-86cf-ca128fb28e90"
      },
      "source": [
        "test_Y = np.argmax(test_Y,axis=1)\n",
        "print(test_Y)"
      ],
      "execution_count": null,
      "outputs": [
        {
          "output_type": "stream",
          "text": [
            "[2 6 0 6 2 2 6 6 3 1 5 5 6 2 5 2 2 6 6 1 5 5 5 2 6 2 5 6 5 5 1 1 6 1 6 0 2\n",
            " 6 2 0 5 5 1 4 5 6 2 6 6 2 2 6 2 2 5 2 1 3 6 6 5 1 2 0 2 2 2 6 6 6 0 0 5 0\n",
            " 5 6 1 5 5 6 5 2 2 6 6 3 5 5 6 5 6 2 2 6 5 1 6 1 5 5 5 1 2 6 1 3 1 1 0 5 0\n",
            " 2 2 5 5 5 6 1 5 6 6 0 0 6 1 6 0 2 5 1 1 6 6 6 3 6 2 6 2 5 2 6 6 5 6 0 0 1\n",
            " 2 2 3 6 6 6 1 2 2 2 6 5 6 5 6 5 5 2 6 6 5 6 5 6 3 5 6 5 1 6 0 2 1 6 2 5 6\n",
            " 3 1 6 4 6 5 6 2 2 6]\n"
          ],
          "name": "stdout"
        }
      ]
    },
    {
      "cell_type": "code",
      "metadata": {
        "colab": {
          "base_uri": "https://localhost:8080/"
        },
        "id": "beTvlvo9At34",
        "outputId": "0c4bef02-f930-4c81-f2ce-2466648a83dd"
      },
      "source": [
        "np.equal(pred_Y, test_Y)"
      ],
      "execution_count": null,
      "outputs": [
        {
          "output_type": "execute_result",
          "data": {
            "text/plain": [
              "array([ True,  True,  True,  True,  True,  True,  True,  True,  True,\n",
              "        True,  True,  True, False,  True, False,  True,  True,  True,\n",
              "        True,  True,  True, False, False,  True,  True,  True, False,\n",
              "        True, False,  True,  True,  True,  True,  True,  True, False,\n",
              "        True,  True,  True, False,  True, False,  True,  True,  True,\n",
              "        True,  True,  True,  True,  True,  True, False,  True,  True,\n",
              "        True,  True,  True,  True,  True,  True,  True, False,  True,\n",
              "       False,  True,  True,  True,  True,  True,  True,  True, False,\n",
              "        True, False, False,  True,  True,  True,  True,  True,  True,\n",
              "        True,  True, False,  True,  True,  True, False,  True,  True,\n",
              "       False,  True,  True,  True,  True,  True,  True,  True,  True,\n",
              "        True,  True, False,  True,  True,  True,  True,  True,  True,\n",
              "        True,  True, False,  True,  True,  True,  True,  True,  True,\n",
              "        True,  True,  True, False,  True,  True, False,  True, False,\n",
              "       False,  True,  True,  True, False, False, False,  True,  True,\n",
              "        True,  True,  True,  True,  True,  True,  True,  True,  True,\n",
              "        True,  True,  True,  True,  True,  True,  True, False,  True,\n",
              "        True,  True,  True,  True,  True, False, False,  True,  True,\n",
              "       False, False,  True,  True,  True,  True,  True,  True,  True,\n",
              "        True,  True,  True,  True, False,  True, False,  True,  True,\n",
              "       False,  True,  True, False,  True,  True,  True,  True,  True,\n",
              "        True,  True,  True, False,  True, False])"
            ]
          },
          "metadata": {
            "tags": []
          },
          "execution_count": 85
        }
      ]
    },
    {
      "cell_type": "code",
      "metadata": {
        "colab": {
          "base_uri": "https://localhost:8080/",
          "height": 181
        },
        "id": "HNP76WDjA7kU",
        "outputId": "bf91c4a9-d764-4045-818d-f945af9b014f"
      },
      "source": [
        " acc = np.mean(np.equal(pred_Y, test_Y))\n",
        " print(\"정확도 ACC : {} % \".format(np.round(acc*100,3)))"
      ],
      "execution_count": 1,
      "outputs": [
        {
          "output_type": "error",
          "ename": "NameError",
          "evalue": "ignored",
          "traceback": [
            "\u001b[0;31m---------------------------------------------------------------------------\u001b[0m",
            "\u001b[0;31mNameError\u001b[0m                                 Traceback (most recent call last)",
            "\u001b[0;32m<ipython-input-1-85d9addfe89f>\u001b[0m in \u001b[0;36m<module>\u001b[0;34m()\u001b[0m\n\u001b[0;32m----> 1\u001b[0;31m \u001b[0macc\u001b[0m \u001b[0;34m=\u001b[0m \u001b[0mnp\u001b[0m\u001b[0;34m.\u001b[0m\u001b[0mmean\u001b[0m\u001b[0;34m(\u001b[0m\u001b[0mnp\u001b[0m\u001b[0;34m.\u001b[0m\u001b[0mequal\u001b[0m\u001b[0;34m(\u001b[0m\u001b[0mpred_Y\u001b[0m\u001b[0;34m,\u001b[0m \u001b[0mtest_Y\u001b[0m\u001b[0;34m)\u001b[0m\u001b[0;34m)\u001b[0m\u001b[0;34m\u001b[0m\u001b[0;34m\u001b[0m\u001b[0m\n\u001b[0m\u001b[1;32m      2\u001b[0m \u001b[0mprint\u001b[0m\u001b[0;34m(\u001b[0m\u001b[0;34m\"정확도 ACC : {} % \"\u001b[0m\u001b[0;34m.\u001b[0m\u001b[0mformat\u001b[0m\u001b[0;34m(\u001b[0m\u001b[0mnp\u001b[0m\u001b[0;34m.\u001b[0m\u001b[0mround\u001b[0m\u001b[0;34m(\u001b[0m\u001b[0macc\u001b[0m\u001b[0;34m*\u001b[0m\u001b[0;36m100\u001b[0m\u001b[0;34m,\u001b[0m\u001b[0;36m3\u001b[0m\u001b[0;34m)\u001b[0m\u001b[0;34m)\u001b[0m\u001b[0;34m)\u001b[0m\u001b[0;34m\u001b[0m\u001b[0;34m\u001b[0m\u001b[0m\n",
            "\u001b[0;31mNameError\u001b[0m: name 'np' is not defined"
          ]
        }
      ]
    },
    {
      "cell_type": "code",
      "metadata": {
        "id": "6CyBg4ZfILJs"
      },
      "source": [
        ""
      ],
      "execution_count": null,
      "outputs": []
    }
  ]
}